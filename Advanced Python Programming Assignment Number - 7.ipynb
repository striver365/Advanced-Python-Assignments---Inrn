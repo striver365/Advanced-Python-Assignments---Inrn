{
 "cells": [
  {
   "cell_type": "code",
   "execution_count": null,
   "metadata": {},
   "outputs": [],
   "source": []
  },
  {
   "cell_type": "markdown",
   "metadata": {},
   "source": [
    "Question 1.\n",
    "\n",
    "Write a function that counts how many concentric layers a rug.\n",
    "\n",
    "Examples\n",
    "\n",
    "count_layers([\n",
    "\n",
    "&quot;AAAA&quot;,\n",
    "\n",
    "&quot;ABBA&quot;,\n",
    "\n",
    "&quot;AAAA&quot;\n",
    "\n",
    "]) ➞ 2\n",
    "\n",
    "\n",
    "count_layers([\n",
    "\n",
    "&quot;AAAAAAAAA&quot;,\n",
    "\n",
    "&quot;ABBBBBBBA&quot;,\n",
    "\n",
    "&quot;ABBAAABBA&quot;,\n",
    "\n",
    "&quot;ABBBBBBBA&quot;,\n",
    "\n",
    "&quot;AAAAAAAAA&quot;\n",
    "\n",
    "]) ➞ 3\n",
    "\n",
    "\n",
    "count_layers([\n",
    "\n",
    "&quot;AAAAAAAAAAA&quot;,\n",
    "\n",
    "&quot;AABBBBBBBAA&quot;,\n",
    "\n",
    "&quot;AABCCCCCBAA&quot;,\n",
    "\n",
    "&quot;AABCAAACBAA&quot;,\n",
    "\n",
    "\n",
    "\n",
    "&quot;AABCADACBAA&quot;,\n",
    "\n",
    "&quot;AABCAAACBAA&quot;,\n",
    "\n",
    "&quot;AABCCCCCBAA&quot;,\n",
    "\n",
    "&quot;AABBBBBBBAA&quot;,\n",
    "\n",
    "&quot;AAAAAAAAAAA&quot;\n",
    "\n",
    "]) ➞ 5"
   ]
  },
  {
   "cell_type": "code",
   "execution_count": null,
   "metadata": {},
   "outputs": [],
   "source": []
  },
  {
   "cell_type": "code",
   "execution_count": 210,
   "metadata": {},
   "outputs": [],
   "source": [
    "def count_layers(pattern):\n",
    "    \n",
    "    cc = []\n",
    "    for elem in pattern:\n",
    "        if pattern.count(elem) > 1:\n",
    "            cc.append([elem])\n",
    "        elif pattern.count(elem) == 1:\n",
    "            idx = pattern.index(elem)\n",
    "\n",
    "    print(cc)\n",
    "    print(idx+1)"
   ]
  },
  {
   "cell_type": "code",
   "execution_count": null,
   "metadata": {},
   "outputs": [],
   "source": []
  },
  {
   "cell_type": "code",
   "execution_count": 211,
   "metadata": {},
   "outputs": [
    {
     "name": "stdout",
     "output_type": "stream",
     "text": [
      "[['AAAA'], ['AAAA']]\n",
      "2\n"
     ]
    }
   ],
   "source": [
    "count_layers([\n",
    "\n",
    "\"AAAA\",\n",
    "\n",
    "\"ABBA\",\n",
    "\n",
    "\"AAAA\"\n",
    "\n",
    "])"
   ]
  },
  {
   "cell_type": "code",
   "execution_count": null,
   "metadata": {},
   "outputs": [],
   "source": []
  },
  {
   "cell_type": "code",
   "execution_count": 212,
   "metadata": {},
   "outputs": [
    {
     "name": "stdout",
     "output_type": "stream",
     "text": [
      "[['AAAAAAAAA'], ['ABBBBBBBA'], ['ABBBBBBBA'], ['AAAAAAAAA']]\n",
      "3\n"
     ]
    }
   ],
   "source": [
    "count_layers([\n",
    "\n",
    "\"AAAAAAAAA\",\n",
    "\n",
    "\"ABBBBBBBA\",\n",
    "\n",
    "\"ABBAAABBA\",\n",
    "\n",
    "\"ABBBBBBBA\",\n",
    "\n",
    "\"AAAAAAAAA\"\n",
    "\n",
    "])"
   ]
  },
  {
   "cell_type": "code",
   "execution_count": null,
   "metadata": {},
   "outputs": [],
   "source": []
  },
  {
   "cell_type": "code",
   "execution_count": 213,
   "metadata": {},
   "outputs": [
    {
     "name": "stdout",
     "output_type": "stream",
     "text": [
      "[['AAAAAAAAAAA'], ['AABBBBBBBAA'], ['AABCCCCCBAA'], ['AABCAAACBAA'], ['AABCAAACBAA'], ['AABCCCCCBAA'], ['AABBBBBBBAA'], ['AAAAAAAAAAA']]\n",
      "5\n"
     ]
    }
   ],
   "source": [
    "count_layers([\n",
    "\n",
    "\"AAAAAAAAAAA\",\n",
    "\n",
    "\"AABBBBBBBAA\",\n",
    "\n",
    "\"AABCCCCCBAA\",\n",
    "\n",
    "\"AABCAAACBAA\",\n",
    "\n",
    "\"AABCADACBAA\",\n",
    "\n",
    "\"AABCAAACBAA\",\n",
    "\n",
    "\"AABCCCCCBAA\",\n",
    "\n",
    "\"AABBBBBBBAA\",\n",
    "\n",
    "\"AAAAAAAAAAA\"\n",
    "\n",
    "])"
   ]
  },
  {
   "cell_type": "code",
   "execution_count": null,
   "metadata": {},
   "outputs": [],
   "source": []
  },
  {
   "cell_type": "code",
   "execution_count": null,
   "metadata": {},
   "outputs": [],
   "source": []
  },
  {
   "cell_type": "code",
   "execution_count": 217,
   "metadata": {},
   "outputs": [],
   "source": [
    "def count_layers_2(pattern_2):\n",
    "    \n",
    "    count_pattern = set(pattern_2)\n",
    "    return len(count_pattern)"
   ]
  },
  {
   "cell_type": "code",
   "execution_count": null,
   "metadata": {},
   "outputs": [],
   "source": []
  },
  {
   "cell_type": "code",
   "execution_count": 218,
   "metadata": {},
   "outputs": [
    {
     "data": {
      "text/plain": [
       "2"
      ]
     },
     "execution_count": 218,
     "metadata": {},
     "output_type": "execute_result"
    }
   ],
   "source": [
    "count_layers_2([\n",
    "\n",
    "\"AAAA\",\n",
    "\n",
    "\"ABBA\",\n",
    "\n",
    "\"AAAA\"\n",
    "\n",
    "])"
   ]
  },
  {
   "cell_type": "code",
   "execution_count": null,
   "metadata": {},
   "outputs": [],
   "source": []
  },
  {
   "cell_type": "code",
   "execution_count": 219,
   "metadata": {},
   "outputs": [
    {
     "data": {
      "text/plain": [
       "3"
      ]
     },
     "execution_count": 219,
     "metadata": {},
     "output_type": "execute_result"
    }
   ],
   "source": [
    "count_layers_2([\n",
    "\n",
    "\"AAAAAAAAA\",\n",
    "\n",
    "\"ABBBBBBBA\",\n",
    "\n",
    "\"ABBAAABBA\",\n",
    "\n",
    "\"ABBBBBBBA\",\n",
    "\n",
    "\"AAAAAAAAA\"\n",
    "\n",
    "])"
   ]
  },
  {
   "cell_type": "code",
   "execution_count": null,
   "metadata": {},
   "outputs": [],
   "source": []
  },
  {
   "cell_type": "code",
   "execution_count": 220,
   "metadata": {},
   "outputs": [
    {
     "data": {
      "text/plain": [
       "5"
      ]
     },
     "execution_count": 220,
     "metadata": {},
     "output_type": "execute_result"
    }
   ],
   "source": [
    "count_layers_2([\n",
    "\n",
    "\"AAAAAAAAAAA\",\n",
    "\n",
    "\"AABBBBBBBAA\",\n",
    "\n",
    "\"AABCCCCCBAA\",\n",
    "\n",
    "\"AABCAAACBAA\",\n",
    "\n",
    "\"AABCADACBAA\",\n",
    "\n",
    "\"AABCAAACBAA\",\n",
    "\n",
    "\"AABCCCCCBAA\",\n",
    "\n",
    "\"AABBBBBBBAA\",\n",
    "\n",
    "\"AAAAAAAAAAA\"\n",
    "\n",
    "])"
   ]
  },
  {
   "cell_type": "code",
   "execution_count": null,
   "metadata": {},
   "outputs": [],
   "source": []
  },
  {
   "cell_type": "code",
   "execution_count": null,
   "metadata": {},
   "outputs": [],
   "source": []
  },
  {
   "cell_type": "code",
   "execution_count": 238,
   "metadata": {},
   "outputs": [],
   "source": [
    "import collections\n",
    "\n",
    "def count_layers_3(pattern_3):\n",
    "    layers = ([item for item, count in collections.Counter(pattern_3).items() if count > 1])\n",
    "    return(len(layers)+1)"
   ]
  },
  {
   "cell_type": "code",
   "execution_count": null,
   "metadata": {},
   "outputs": [],
   "source": []
  },
  {
   "cell_type": "code",
   "execution_count": 239,
   "metadata": {},
   "outputs": [
    {
     "data": {
      "text/plain": [
       "2"
      ]
     },
     "execution_count": 239,
     "metadata": {},
     "output_type": "execute_result"
    }
   ],
   "source": [
    "count_layers_3([\n",
    "\n",
    "\"AAAA\",\n",
    "\n",
    "\"ABBA\",\n",
    "\n",
    "\"AAAA\"\n",
    "\n",
    "])"
   ]
  },
  {
   "cell_type": "code",
   "execution_count": null,
   "metadata": {},
   "outputs": [],
   "source": []
  },
  {
   "cell_type": "code",
   "execution_count": 241,
   "metadata": {},
   "outputs": [
    {
     "data": {
      "text/plain": [
       "3"
      ]
     },
     "execution_count": 241,
     "metadata": {},
     "output_type": "execute_result"
    }
   ],
   "source": [
    "count_layers_3([\n",
    "\n",
    "\"AAAAAAAAA\",\n",
    "\n",
    "\"ABBBBBBBA\",\n",
    "\n",
    "\"ABBAAABBA\",\n",
    "\n",
    "\"ABBBBBBBA\",\n",
    "\n",
    "\"AAAAAAAAA\"\n",
    "\n",
    "])"
   ]
  },
  {
   "cell_type": "code",
   "execution_count": null,
   "metadata": {},
   "outputs": [],
   "source": []
  },
  {
   "cell_type": "code",
   "execution_count": 242,
   "metadata": {},
   "outputs": [
    {
     "data": {
      "text/plain": [
       "5"
      ]
     },
     "execution_count": 242,
     "metadata": {},
     "output_type": "execute_result"
    }
   ],
   "source": [
    "count_layers_3([\n",
    "\n",
    "\"AAAAAAAAAAA\",\n",
    "\n",
    "\"AABBBBBBBAA\",\n",
    "\n",
    "\"AABCCCCCBAA\",\n",
    "\n",
    "\"AABCAAACBAA\",\n",
    "\n",
    "\"AABCADACBAA\",\n",
    "\n",
    "\"AABCAAACBAA\",\n",
    "\n",
    "\"AABCCCCCBAA\",\n",
    "\n",
    "\"AABBBBBBBAA\",\n",
    "\n",
    "\"AAAAAAAAAAA\"\n",
    "\n",
    "])"
   ]
  },
  {
   "cell_type": "code",
   "execution_count": null,
   "metadata": {},
   "outputs": [],
   "source": []
  },
  {
   "cell_type": "code",
   "execution_count": null,
   "metadata": {},
   "outputs": [],
   "source": []
  },
  {
   "cell_type": "markdown",
   "metadata": {},
   "source": [
    "Question 2.\n",
    "\n",
    "2. There are many different styles of music and many albums exhibit multiple\n",
    "styles. \n",
    "\n",
    "Create a function that takes a list of musical styles from albums and\n",
    "returns how many styles are unique.\n",
    "\n",
    "Examples\n",
    "\n",
    "unique_styles([\n",
    "\n",
    "&quot;Dub,Dancehall&quot;,\n",
    "\n",
    "&quot;Industrial,Heavy Metal&quot;,\n",
    "\n",
    "&quot;Techno,Dubstep&quot;,\n",
    "\n",
    "&quot;Synth-pop,Euro-Disco&quot;,\n",
    "\n",
    "&quot;Industrial,Techno,Minimal&quot;\n",
    "\n",
    "]) ➞ 9\n",
    "\n",
    "unique_styles([\n",
    "\n",
    "&quot;Soul&quot;,\n",
    "\n",
    "&quot;House,Folk&quot;,\n",
    "\n",
    "&quot;Trance,Downtempo,Big Beat,House&quot;,\n",
    "\n",
    "&quot;Deep House&quot;,\n",
    "\n",
    "&quot;Soul&quot;\n",
    "\n",
    "]) ➞ 7"
   ]
  },
  {
   "cell_type": "code",
   "execution_count": null,
   "metadata": {},
   "outputs": [],
   "source": []
  },
  {
   "cell_type": "code",
   "execution_count": 144,
   "metadata": {},
   "outputs": [],
   "source": [
    "def unique_styles(styles):\n",
    "    new_list = [word for line in styles for word in line.split(\",\")]\n",
    "    count_styles = set(new_list)\n",
    "    return len(count_styles)\n",
    "\n",
    "\n",
    "\n",
    "\n",
    "########## ***************************** ########################\n",
    "# #     styles = [\"Dub,Dancehall\",\n",
    "\n",
    "# #             \"Industrial,Heavy Metal\",\n",
    "\n",
    "# #             \"Techno,Dubstep\",\n",
    "\n",
    "# #             \"Synth-pop,Euro-Disco\",\n",
    "\n",
    "# #             \"Industrial,Techno,Minimal\"]\n",
    "    \n",
    "# #     print(styles)\n",
    "#     new_list = [word for line in styles for word in line.split(\",\")]\n",
    "# #     print(new_list)\n",
    "# #     len(new_list)\n",
    "    \n",
    "#     count_styles = set(new_list)\n",
    "# #     print(count_styles)\n",
    "#     return len(count_styles)"
   ]
  },
  {
   "cell_type": "code",
   "execution_count": null,
   "metadata": {},
   "outputs": [],
   "source": []
  },
  {
   "cell_type": "code",
   "execution_count": 145,
   "metadata": {},
   "outputs": [
    {
     "name": "stdout",
     "output_type": "stream",
     "text": [
      "['Dub,Dancehall', 'Industrial,Heavy Metal', 'Techno,Dubstep', 'Synth-pop,Euro-Disco', 'Industrial,Techno,Minimal']\n"
     ]
    },
    {
     "data": {
      "text/plain": [
       "9"
      ]
     },
     "execution_count": 145,
     "metadata": {},
     "output_type": "execute_result"
    }
   ],
   "source": [
    "unique_styles([\n",
    "\n",
    "\"Dub,Dancehall\",\n",
    "\n",
    "\"Industrial,Heavy Metal\",\n",
    "\n",
    "\"Techno,Dubstep\",\n",
    "\n",
    "\"Synth-pop,Euro-Disco\",\n",
    "\n",
    "\"Industrial,Techno,Minimal\"\n",
    "\n",
    "])"
   ]
  },
  {
   "cell_type": "code",
   "execution_count": null,
   "metadata": {},
   "outputs": [],
   "source": []
  },
  {
   "cell_type": "code",
   "execution_count": 146,
   "metadata": {},
   "outputs": [
    {
     "name": "stdout",
     "output_type": "stream",
     "text": [
      "['Soul', 'House,Folk', 'Trance,Downtempo,Big Beat,House', 'Deep House', 'Soul']\n"
     ]
    },
    {
     "data": {
      "text/plain": [
       "7"
      ]
     },
     "execution_count": 146,
     "metadata": {},
     "output_type": "execute_result"
    }
   ],
   "source": [
    "unique_styles([\n",
    "\n",
    "\"Soul\",\n",
    "\n",
    "\"House,Folk\",\n",
    "\n",
    "\"Trance,Downtempo,Big Beat,House\",\n",
    "\n",
    "\"Deep House\",\n",
    "\n",
    "\"Soul\"\n",
    "\n",
    "]) "
   ]
  },
  {
   "cell_type": "code",
   "execution_count": null,
   "metadata": {},
   "outputs": [],
   "source": []
  },
  {
   "cell_type": "code",
   "execution_count": null,
   "metadata": {},
   "outputs": [],
   "source": []
  },
  {
   "cell_type": "code",
   "execution_count": null,
   "metadata": {},
   "outputs": [],
   "source": []
  },
  {
   "cell_type": "markdown",
   "metadata": {},
   "source": [
    "Question 3. \n",
    "\n",
    "Create a function that finds a target number in a list of prime numbers.\n",
    "Implement a binary search algorithm in your function. \n",
    "\n",
    "The target number will\n",
    "be from 2 through 97.\n",
    "\n",
    "If the target is prime then return &quot;yes&quot; else return &quot;no&quot;.\n",
    "\n",
    "Examples\n",
    "\n",
    "primes = [2, 3, 5, 7, 11, 13, 17, 19, 23, 29, 31, 37, 41, 43, 47, 53, 59, 61, 67,\n",
    "71, 73, 79, 83, 89, 97]\n",
    "\n",
    "is_prime(primes, 3) ➞ &quot;yes&quot;\n",
    "\n",
    "is_prime(primes, 4) ➞ &quot;no&quot;\n",
    "\n",
    "is_prime(primes, 67) ➞ &quot;yes&quot;\n",
    "\n",
    "is_prime(primes, 36) ➞ &quot;no&quot;"
   ]
  },
  {
   "cell_type": "code",
   "execution_count": null,
   "metadata": {},
   "outputs": [],
   "source": []
  },
  {
   "cell_type": "code",
   "execution_count": 147,
   "metadata": {},
   "outputs": [
    {
     "name": "stdout",
     "output_type": "stream",
     "text": [
      "[2, 3, 5, 7, 11, 13, 17, 19, 23, 29, 31, 37, 41, 43, 47, 53, 59, 61, 67, 71, 73, 79, 83, 89, 97]\n"
     ]
    }
   ],
   "source": [
    "def is_prime(primes,key):\n",
    "    \n",
    "    low = 0\n",
    "    high = len(primes) -1\n",
    "    Found = False\n",
    "    \n",
    "    while low<=high and not Found:\n",
    "        mid = (low+high)//2\n",
    "        if key == primes[mid]:\n",
    "            Found = True\n",
    "        elif key > primes[mid]:\n",
    "            low = mid + 1 \n",
    "        elif key < primes[mid]:\n",
    "            high = mid - 1\n",
    "    \n",
    "    if 0 <= key <= 97:\n",
    "        if Found == True:\n",
    "            print(key, \"Yes\")\n",
    "        else:\n",
    "            print(key, \"No\")\n",
    "    else:\n",
    "        print(\"Out of Range\")\n",
    "        \n",
    "## Collection of Prime Numbers from 0 to 100\n",
    "primes = []\n",
    "\n",
    "for num in range(2, 100):\n",
    "    for i in range(2, num):\n",
    "        if (num % i) == 0:\n",
    "            break\n",
    "    else:\n",
    "        primes.append(num)\n",
    "print(primes)"
   ]
  },
  {
   "cell_type": "code",
   "execution_count": null,
   "metadata": {},
   "outputs": [],
   "source": []
  },
  {
   "cell_type": "code",
   "execution_count": 148,
   "metadata": {},
   "outputs": [
    {
     "name": "stdout",
     "output_type": "stream",
     "text": [
      "3 Yes\n"
     ]
    }
   ],
   "source": [
    "is_prime(primes,3)"
   ]
  },
  {
   "cell_type": "code",
   "execution_count": null,
   "metadata": {},
   "outputs": [],
   "source": []
  },
  {
   "cell_type": "code",
   "execution_count": 149,
   "metadata": {},
   "outputs": [
    {
     "name": "stdout",
     "output_type": "stream",
     "text": [
      "4 No\n"
     ]
    }
   ],
   "source": [
    "is_prime(primes, 4)"
   ]
  },
  {
   "cell_type": "code",
   "execution_count": null,
   "metadata": {},
   "outputs": [],
   "source": []
  },
  {
   "cell_type": "code",
   "execution_count": 150,
   "metadata": {},
   "outputs": [
    {
     "name": "stdout",
     "output_type": "stream",
     "text": [
      "67 Yes\n"
     ]
    }
   ],
   "source": [
    "is_prime(primes, 67)"
   ]
  },
  {
   "cell_type": "code",
   "execution_count": null,
   "metadata": {},
   "outputs": [],
   "source": []
  },
  {
   "cell_type": "code",
   "execution_count": 151,
   "metadata": {},
   "outputs": [
    {
     "name": "stdout",
     "output_type": "stream",
     "text": [
      "36 No\n"
     ]
    }
   ],
   "source": [
    "is_prime(primes, 36)"
   ]
  },
  {
   "cell_type": "code",
   "execution_count": null,
   "metadata": {},
   "outputs": [],
   "source": []
  },
  {
   "cell_type": "code",
   "execution_count": 152,
   "metadata": {},
   "outputs": [
    {
     "name": "stdout",
     "output_type": "stream",
     "text": [
      "Out of Range\n"
     ]
    }
   ],
   "source": [
    "is_prime(primes, 117)"
   ]
  },
  {
   "cell_type": "code",
   "execution_count": null,
   "metadata": {},
   "outputs": [],
   "source": []
  },
  {
   "cell_type": "code",
   "execution_count": 153,
   "metadata": {},
   "outputs": [
    {
     "name": "stdout",
     "output_type": "stream",
     "text": [
      "Out of Range\n"
     ]
    }
   ],
   "source": [
    "is_prime(primes, -5)"
   ]
  },
  {
   "cell_type": "code",
   "execution_count": null,
   "metadata": {},
   "outputs": [],
   "source": []
  },
  {
   "cell_type": "code",
   "execution_count": null,
   "metadata": {},
   "outputs": [],
   "source": []
  },
  {
   "cell_type": "code",
   "execution_count": null,
   "metadata": {},
   "outputs": [],
   "source": []
  },
  {
   "cell_type": "markdown",
   "metadata": {},
   "source": [
    "Question 4. \n",
    "\n",
    "Create a function that takes in n, a, b and returns the number of positive\n",
    "values raised to the nth power that lie in the range [a, b], inclusive.\n",
    "\n",
    "Examples\n",
    "\n",
    "power_ranger(2, 49, 65) ➞ 2\n",
    "\n",
    "2 squares (n^2) lie between 49 and 65, 49 (7^2) and 64 (8^2)\n",
    "\n",
    "power_ranger(3, 1, 27) ➞ 3\n",
    "\n",
    "3 cubes (n^3) lie between 1 and 27, 1 (1^3), 8 (2^3) and 27 (3^3)\n",
    "\n",
    "power_ranger(10, 1, 5) ➞ 1\n",
    "\n",
    "\n",
    "1 value raised to the 10th power lies between 1 and 5, 1 (1^10)\n",
    "\n",
    "power_ranger(5, 31, 33) ➞ 1\n",
    "\n",
    "power_ranger(4, 250, 1300) ➞ 3"
   ]
  },
  {
   "cell_type": "code",
   "execution_count": null,
   "metadata": {},
   "outputs": [],
   "source": []
  },
  {
   "cell_type": "code",
   "execution_count": null,
   "metadata": {},
   "outputs": [],
   "source": []
  },
  {
   "cell_type": "code",
   "execution_count": 21,
   "metadata": {},
   "outputs": [],
   "source": [
    "def power_ranger(power, range_1, range_2):\n",
    "#     power = 4\n",
    "#     range_1 = 250\n",
    "#     range_2 = 1300\n",
    "    value = int()\n",
    "    count = 1\n",
    "    exponent = []\n",
    "\n",
    "    while value <= range_2:\n",
    "        value = count ** power\n",
    "        count += 1\n",
    "\n",
    "        if value >= range_1 and value <= range_2:\n",
    "            exponent.append(value)\n",
    "    #         print(value)\n",
    "    print(exponent)\n",
    "    print(len(exponent))"
   ]
  },
  {
   "cell_type": "code",
   "execution_count": null,
   "metadata": {},
   "outputs": [],
   "source": []
  },
  {
   "cell_type": "code",
   "execution_count": 22,
   "metadata": {},
   "outputs": [
    {
     "name": "stdout",
     "output_type": "stream",
     "text": [
      "[49, 64]\n",
      "2\n"
     ]
    }
   ],
   "source": [
    "power_ranger(2, 49, 65)"
   ]
  },
  {
   "cell_type": "code",
   "execution_count": null,
   "metadata": {},
   "outputs": [],
   "source": []
  },
  {
   "cell_type": "code",
   "execution_count": 23,
   "metadata": {},
   "outputs": [
    {
     "name": "stdout",
     "output_type": "stream",
     "text": [
      "[1, 8, 27]\n",
      "3\n"
     ]
    }
   ],
   "source": [
    "power_ranger(3, 1, 27)"
   ]
  },
  {
   "cell_type": "code",
   "execution_count": null,
   "metadata": {},
   "outputs": [],
   "source": []
  },
  {
   "cell_type": "code",
   "execution_count": 24,
   "metadata": {},
   "outputs": [
    {
     "name": "stdout",
     "output_type": "stream",
     "text": [
      "[1]\n",
      "1\n"
     ]
    }
   ],
   "source": [
    "power_ranger(10, 1, 5)"
   ]
  },
  {
   "cell_type": "code",
   "execution_count": null,
   "metadata": {},
   "outputs": [],
   "source": []
  },
  {
   "cell_type": "code",
   "execution_count": 25,
   "metadata": {},
   "outputs": [
    {
     "name": "stdout",
     "output_type": "stream",
     "text": [
      "[32]\n",
      "1\n"
     ]
    }
   ],
   "source": [
    "power_ranger(5, 31, 33)"
   ]
  },
  {
   "cell_type": "code",
   "execution_count": null,
   "metadata": {},
   "outputs": [],
   "source": []
  },
  {
   "cell_type": "code",
   "execution_count": 26,
   "metadata": {},
   "outputs": [
    {
     "name": "stdout",
     "output_type": "stream",
     "text": [
      "[256, 625, 1296]\n",
      "3\n"
     ]
    }
   ],
   "source": [
    "power_ranger(4, 250, 1300) "
   ]
  },
  {
   "cell_type": "code",
   "execution_count": null,
   "metadata": {},
   "outputs": [],
   "source": []
  },
  {
   "cell_type": "code",
   "execution_count": null,
   "metadata": {},
   "outputs": [],
   "source": []
  },
  {
   "cell_type": "code",
   "execution_count": null,
   "metadata": {},
   "outputs": [],
   "source": []
  },
  {
   "cell_type": "markdown",
   "metadata": {},
   "source": [
    "Question 5.\n",
    "\n",
    "Given a number, return the difference between the maximum and minimum\n",
    "\n",
    "numbers that can be formed when the digits are rearranged.\n",
    "\n",
    "Examples\n",
    "rearranged_difference(972882) ➞ 760833\n",
    "\n",
    "#988722 - 227889 = 760833\n",
    "\n",
    "rearranged_difference(3320707) ➞ 7709823\n",
    "\n",
    "#7733200 - 23377 = 7709823\n",
    "\n",
    "rearranged_difference(90010) ➞ 90981\n",
    "\n",
    "#91000 - 19 = 90981"
   ]
  },
  {
   "cell_type": "code",
   "execution_count": null,
   "metadata": {},
   "outputs": [],
   "source": []
  },
  {
   "cell_type": "code",
   "execution_count": 58,
   "metadata": {},
   "outputs": [],
   "source": [
    "def rearranged_difference(num):\n",
    "# num = 972882\n",
    "\n",
    "    lst_num = [int(i) for i in str(num)]\n",
    "\n",
    "    a = sorted(lst_num)\n",
    "    b = sorted(lst_num, reverse=True)\n",
    "\n",
    "    res_a = int(\"\".join(map(str,a)))\n",
    "    res_b = int(\"\".join(map(str, b)))\n",
    "\n",
    "    difference = res_b - res_a\n",
    "    return difference"
   ]
  },
  {
   "cell_type": "code",
   "execution_count": null,
   "metadata": {},
   "outputs": [],
   "source": []
  },
  {
   "cell_type": "code",
   "execution_count": 59,
   "metadata": {},
   "outputs": [
    {
     "name": "stdout",
     "output_type": "stream",
     "text": [
      "[2, 2, 7, 8, 8, 9]\n",
      "[9, 8, 8, 7, 2, 2]\n"
     ]
    },
    {
     "data": {
      "text/plain": [
       "760833"
      ]
     },
     "execution_count": 59,
     "metadata": {},
     "output_type": "execute_result"
    }
   ],
   "source": [
    "rearranged_difference(972882)"
   ]
  },
  {
   "cell_type": "code",
   "execution_count": null,
   "metadata": {},
   "outputs": [],
   "source": []
  },
  {
   "cell_type": "code",
   "execution_count": 61,
   "metadata": {},
   "outputs": [
    {
     "name": "stdout",
     "output_type": "stream",
     "text": [
      "[0, 0, 2, 3, 3, 7, 7]\n",
      "[7, 7, 3, 3, 2, 0, 0]\n"
     ]
    },
    {
     "data": {
      "text/plain": [
       "7709823"
      ]
     },
     "execution_count": 61,
     "metadata": {},
     "output_type": "execute_result"
    }
   ],
   "source": [
    "rearranged_difference(3320707)"
   ]
  },
  {
   "cell_type": "code",
   "execution_count": null,
   "metadata": {},
   "outputs": [],
   "source": []
  },
  {
   "cell_type": "code",
   "execution_count": 62,
   "metadata": {},
   "outputs": [
    {
     "name": "stdout",
     "output_type": "stream",
     "text": [
      "[0, 0, 0, 1, 9]\n",
      "[9, 1, 0, 0, 0]\n"
     ]
    },
    {
     "data": {
      "text/plain": [
       "90981"
      ]
     },
     "execution_count": 62,
     "metadata": {},
     "output_type": "execute_result"
    }
   ],
   "source": [
    "rearranged_difference(90010)"
   ]
  },
  {
   "cell_type": "code",
   "execution_count": null,
   "metadata": {},
   "outputs": [],
   "source": []
  },
  {
   "cell_type": "code",
   "execution_count": null,
   "metadata": {},
   "outputs": [],
   "source": []
  },
  {
   "cell_type": "code",
   "execution_count": null,
   "metadata": {},
   "outputs": [],
   "source": []
  },
  {
   "cell_type": "code",
   "execution_count": null,
   "metadata": {},
   "outputs": [],
   "source": []
  },
  {
   "cell_type": "code",
   "execution_count": null,
   "metadata": {},
   "outputs": [],
   "source": []
  },
  {
   "cell_type": "code",
   "execution_count": null,
   "metadata": {},
   "outputs": [],
   "source": []
  },
  {
   "cell_type": "markdown",
   "metadata": {},
   "source": [
    "                             ##################################### THE END #########################################"
   ]
  },
  {
   "cell_type": "code",
   "execution_count": null,
   "metadata": {},
   "outputs": [],
   "source": []
  }
 ],
 "metadata": {
  "kernelspec": {
   "display_name": "Python 3",
   "language": "python",
   "name": "python3"
  },
  "language_info": {
   "codemirror_mode": {
    "name": "ipython",
    "version": 3
   },
   "file_extension": ".py",
   "mimetype": "text/x-python",
   "name": "python",
   "nbconvert_exporter": "python",
   "pygments_lexer": "ipython3",
   "version": "3.8.5"
  }
 },
 "nbformat": 4,
 "nbformat_minor": 4
}
