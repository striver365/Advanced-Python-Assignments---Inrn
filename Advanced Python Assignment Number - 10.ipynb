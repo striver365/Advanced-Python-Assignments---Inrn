{
 "cells": [
  {
   "cell_type": "code",
   "execution_count": null,
   "metadata": {},
   "outputs": [],
   "source": []
  },
  {
   "cell_type": "markdown",
   "metadata": {},
   "source": [
    "Q1. \n",
    "\n",
    "What is the difference between __ getattr__ and __ getattribute__?"
   ]
  },
  {
   "cell_type": "markdown",
   "metadata": {},
   "source": [
    "Answer:\n",
    "\n",
    "The __  getattr __ and __ getattribute __ generic attribute interception methods are\n",
    "still run for attributes accessed by explicit name, but no longer for attributes implicitly fetched by built-in operations. They are not called for __ X __ operator overloading method names in built-in contexts only—the search for such names begins at classes, not instances. \n",
    "\n",
    "This breaks or complicates objects that serve as proxies\n",
    "for another object’s interface, if wrapped objects implement operator overloading.\n",
    "\n",
    "\n",
    "\n",
    "The __ getattr__ method is run for fetches of undefined attributes only (i.e., those\n",
    "not present on an instance and not inherited from any of its classes). \n",
    "\n",
    "By contrast,\n",
    "the __ getattribute__ method is called for every attribute fetch, whether the attribute is defined or not. \n",
    "\n",
    "Because of this, code inside a __ getattr__ can freely fetch\n",
    "other attributes if they are defined, \n",
    "\n",
    "whereas __ getattribute __ must use special code\n",
    "for all such attribute fetches to avoid looping or extra calls (it must route fetches\n",
    "to a superclass to skip itself)."
   ]
  },
  {
   "cell_type": "code",
   "execution_count": null,
   "metadata": {},
   "outputs": [],
   "source": []
  },
  {
   "cell_type": "code",
   "execution_count": null,
   "metadata": {},
   "outputs": [],
   "source": []
  },
  {
   "cell_type": "code",
   "execution_count": null,
   "metadata": {},
   "outputs": [],
   "source": []
  },
  {
   "cell_type": "markdown",
   "metadata": {},
   "source": [
    "Q2. \n",
    "\n",
    "What is the difference between properties and descriptors?"
   ]
  },
  {
   "cell_type": "markdown",
   "metadata": {},
   "source": [
    "Answer:\n",
    "\n",
    "Properties serve a specific role, while descriptors are more general. Properties define\n",
    "get, set, and delete functions for a specific attribute; descriptors provide a class\n",
    "with methods for these actions, too, but they provide extra flexibility to support\n",
    "more arbitrary actions. \n",
    "\n",
    "In fact, properties are really a simple way to create a specific\n",
    "kind of descriptor—one that runs functions on attribute accesses.\n",
    "\n",
    "Coding differs\n",
    "too: a property is created with a built-in function, and a descriptor is coded with\n",
    "a class; thus, descriptors can leverage all the usual OOP features of classes, such\n",
    "as inheritance.\n",
    "\n",
    "Moreover, in addition to the instance’s state information, descriptors have local state of their own, so they can sometimes avoid name collisions in\n",
    "the instance."
   ]
  },
  {
   "cell_type": "code",
   "execution_count": null,
   "metadata": {},
   "outputs": [],
   "source": []
  },
  {
   "cell_type": "code",
   "execution_count": null,
   "metadata": {},
   "outputs": [],
   "source": []
  },
  {
   "cell_type": "code",
   "execution_count": null,
   "metadata": {},
   "outputs": [],
   "source": []
  },
  {
   "cell_type": "markdown",
   "metadata": {},
   "source": [
    "Q3. \n",
    "\n",
    "What are the key differences in functionality between __ getattr__ and __ getattribute__, as well as\n",
    "properties and descriptors?"
   ]
  },
  {
   "cell_type": "markdown",
   "metadata": {},
   "source": [
    "Answer:\n",
    "\n",
    "The __  getattr __ and __ getattribute __ methods are more generic: they can be used\n",
    "to catch arbitrarily many attributes. In contrast, each property or descriptor provides access interception for only one specific attribute—we can’t catch every attribute fetch with a single property or descriptor. \n",
    "\n",
    "On the other hand, properties\n",
    "and descriptors handle both attribute fetch and assignment by design: __ get\n",
    "attr__ and __ getattribute __ handle fetches only; to intercept assignments as well,\n",
    "__ setattr __ must also be coded. \n",
    "\n",
    "The implementation is also different: __ get\n",
    "attr__ and __ getattribute __ are operator overloading methods, whereas properties and descriptors are objects manually assigned to class attributes.\n",
    "\n",
    "Unlike the\n",
    "others, properties and descriptors can also sometimes avoid extra calls on assignment to unmanaged names, and show up in dir results automatically, but are also narrower in scope—they can’t address generic dispatch goals. In Python evolution,\n",
    "new features tend to offer alternatives, but do not fully subsume what came before.\n"
   ]
  },
  {
   "cell_type": "code",
   "execution_count": null,
   "metadata": {},
   "outputs": [],
   "source": []
  },
  {
   "cell_type": "code",
   "execution_count": null,
   "metadata": {},
   "outputs": [],
   "source": []
  },
  {
   "cell_type": "code",
   "execution_count": null,
   "metadata": {},
   "outputs": [],
   "source": []
  },
  {
   "cell_type": "markdown",
   "metadata": {},
   "source": [
    "            *********************************  THE END *************************************"
   ]
  },
  {
   "cell_type": "code",
   "execution_count": null,
   "metadata": {},
   "outputs": [],
   "source": []
  },
  {
   "cell_type": "code",
   "execution_count": null,
   "metadata": {},
   "outputs": [],
   "source": []
  },
  {
   "cell_type": "code",
   "execution_count": null,
   "metadata": {},
   "outputs": [],
   "source": []
  },
  {
   "cell_type": "code",
   "execution_count": null,
   "metadata": {},
   "outputs": [],
   "source": []
  },
  {
   "cell_type": "code",
   "execution_count": null,
   "metadata": {},
   "outputs": [],
   "source": []
  }
 ],
 "metadata": {
  "kernelspec": {
   "display_name": "Python 3",
   "language": "python",
   "name": "python3"
  },
  "language_info": {
   "codemirror_mode": {
    "name": "ipython",
    "version": 3
   },
   "file_extension": ".py",
   "mimetype": "text/x-python",
   "name": "python",
   "nbconvert_exporter": "python",
   "pygments_lexer": "ipython3",
   "version": "3.8.5"
  }
 },
 "nbformat": 4,
 "nbformat_minor": 4
}
