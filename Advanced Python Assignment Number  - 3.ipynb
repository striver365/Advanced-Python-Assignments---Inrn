{
 "cells": [
  {
   "cell_type": "code",
   "execution_count": null,
   "metadata": {},
   "outputs": [],
   "source": []
  },
  {
   "cell_type": "markdown",
   "metadata": {},
   "source": [
    "Question 1. \n",
    "\n",
    "\n",
    "What is the concept of an abstract superclass?\n"
   ]
  },
  {
   "cell_type": "markdown",
   "metadata": {},
   "source": [
    "An Abstract SuperClass has a method defined within, which would have its value defined in its inherited Sub-Class.\n",
    "\n",
    "It does not inherit or define the method, as it is defined by the Sub-Class itself. The same Sub-Class that inherits from this Super-Class.\n",
    "\n",
    "Super-Classes are built when object behaviour predictions are not made and all Classes are generalized. Moreover this allows for more customized operations, where OOP framework is defined as per client requirements.\n",
    "\n"
   ]
  },
  {
   "cell_type": "code",
   "execution_count": null,
   "metadata": {},
   "outputs": [],
   "source": []
  },
  {
   "cell_type": "code",
   "execution_count": 19,
   "metadata": {},
   "outputs": [
    {
     "name": "stdout",
     "output_type": "stream",
     "text": [
      "through represent.method(SuperClass)\n"
     ]
    }
   ],
   "source": [
    "class SuperClass:\n",
    "    \n",
    "    def method(self):\n",
    "        print(\"through SuperClass\") # Default behavior\n",
    "    def represent(self):\n",
    "        self.define() # Expected to be defined\n",
    "    \n",
    "\n",
    "class ChildClass(SuperClass): # Fill in a required method\n",
    "    def define(self):\n",
    "        print(\"through represent.method(SuperClass)\")\n",
    "\n",
    "y = ChildClass()\n",
    "y.represent()"
   ]
  },
  {
   "cell_type": "markdown",
   "metadata": {},
   "source": [
    "Through the above example, the `represent() method` which is within the SuperClass, the same SuperClass is known as ABSTRACT SUPERCLASS.\n",
    "\n",
    "If we pass no value within the `define () method` inside the 'ChildClass'. Python will raise an `UndefinedName Error`."
   ]
  },
  {
   "cell_type": "code",
   "execution_count": null,
   "metadata": {},
   "outputs": [],
   "source": []
  },
  {
   "cell_type": "code",
   "execution_count": null,
   "metadata": {},
   "outputs": [],
   "source": []
  },
  {
   "cell_type": "code",
   "execution_count": null,
   "metadata": {},
   "outputs": [],
   "source": []
  },
  {
   "cell_type": "markdown",
   "metadata": {},
   "source": [
    "Question 2.\n",
    "\n",
    "What happens when a class statement&#39;s top level contains a basic assignment statement?"
   ]
  },
  {
   "cell_type": "markdown",
   "metadata": {},
   "source": [
    "An assignment statement within a Class statement makes a data attribute. Therefore when a class statement's top level contains a basic assignment statement it contains a `data attribute`. For example\n",
    "\n",
    "Class TWO(INHERITED FROM CLASS ONE):\n",
    "    var_a = 'THIS IS A DATA ATTRIBUTE'\n",
    "\n",
    "\n",
    "A data attribute much like class-attribute creates instances of the same name as of the Class.\n",
    "\n",
    "However, data attributes are not callable method functions, rather they are called by assigning the value to a different method.\n",
    "\n",
    "Data Attribute is what we know popularly as Instance Attribute.\n",
    "\n",
    "|\n",
    "\n",
    "Example below:"
   ]
  },
  {
   "cell_type": "code",
   "execution_count": 20,
   "metadata": {},
   "outputs": [],
   "source": [
    "class Circle():\n",
    "    def __init__(self):\n",
    "        self.diameter = \"This is a data attribute \""
   ]
  },
  {
   "cell_type": "code",
   "execution_count": null,
   "metadata": {},
   "outputs": [],
   "source": []
  },
  {
   "cell_type": "code",
   "execution_count": null,
   "metadata": {},
   "outputs": [],
   "source": []
  },
  {
   "cell_type": "code",
   "execution_count": null,
   "metadata": {},
   "outputs": [],
   "source": []
  },
  {
   "cell_type": "markdown",
   "metadata": {},
   "source": [
    "Question 3. \n",
    "\n",
    "Why does a class need to manually call a superclass&#39;s __init__ method?"
   ]
  },
  {
   "cell_type": "markdown",
   "metadata": {},
   "source": [
    "A Sub-Class when inherits attributes from the Super-Class, it also needs to manually call the constructor code if it wants those attributes within the Super-Class to run in the Sub-Class methods.\n",
    "\n",
    "Superclass constructors are usually called through the class name, passing in the self instance manually: `superclass.__init__(self, var_name).`\n",
    "\n",
    "|\n",
    "\n",
    "Example"
   ]
  },
  {
   "cell_type": "code",
   "execution_count": 23,
   "metadata": {},
   "outputs": [],
   "source": [
    "class BaseClass():\n",
    "    def __init__(self):\n",
    "        self.var_a = var_a   ## Pass whatever attributes as a part of constructor code\n",
    "\n",
    "class SubClass(BaseClass):\n",
    "    def __init__(self):\n",
    "        super().__init__()"
   ]
  },
  {
   "cell_type": "code",
   "execution_count": null,
   "metadata": {},
   "outputs": [],
   "source": []
  },
  {
   "cell_type": "code",
   "execution_count": null,
   "metadata": {},
   "outputs": [],
   "source": []
  },
  {
   "cell_type": "code",
   "execution_count": null,
   "metadata": {},
   "outputs": [],
   "source": []
  },
  {
   "cell_type": "markdown",
   "metadata": {},
   "source": [
    "Question 4. \n",
    "\n",
    "How can you augment, instead of completely replacing, an inherited method?"
   ]
  },
  {
   "cell_type": "markdown",
   "metadata": {},
   "source": [
    "An inherited method can be augmented within the Inherited Sub-Class, by calling back the same method which was defined in the Super Class. This can be done through creating a new version in the Sub-Class.\n",
    "\n",
    "|\n",
    "\n",
    "\n",
    "\n",
    "Example:"
   ]
  },
  {
   "cell_type": "code",
   "execution_count": 30,
   "metadata": {},
   "outputs": [],
   "source": []
  },
  {
   "cell_type": "code",
   "execution_count": 66,
   "metadata": {},
   "outputs": [
    {
     "name": "stdout",
     "output_type": "stream",
     "text": [
      "[Person: Ajay Mathur, None]\n",
      "[Person: Sarah Amjad, 50000]\n",
      "[Person: Sarah Amjad, 55000]\n",
      "[Person: Tarzan Jungle ka Raja, 32500]\n"
     ]
    }
   ],
   "source": [
    "class Teacher:\n",
    "    def __init__(self, name, pay=None):\n",
    "        self.name = name\n",
    "        self.pay = pay\n",
    "    \n",
    "    \n",
    "    def Getsalary(self, percent):\n",
    "        self.pay = int(self.pay * (1 + percent)) ## bonus within the Teacher Class and Teaching assistant Class\n",
    "    \n",
    "    def __repr__(self):\n",
    "        return '[Person: %s, %s]' % (self.name, self.pay)\n",
    "\n",
    "class Teaching_Asst(Teacher):\n",
    "    def Getsalary(self, percent, bonus=.10): # Redefine at this level\n",
    "        Teacher.Getsalary(self, percent + bonus) # Call Person's version\n",
    "\n",
    "\n",
    "if __name__ == '__main__':\n",
    "    Ajay = Teacher('Ajay Mathur')\n",
    "    Sarah = Teacher('Sarah Amjad', 50000) ## Original Constructor with Method Attributes\n",
    "#     print(Ajay)\n",
    "    print(Sarah)\n",
    "\n",
    "    Sarah.Getsalary(.10) ## 10% bonus of 50,000 salary == 50,000 + 5000 == 55,000\n",
    "    print(Sarah)\n",
    "\n",
    "    \n",
    "    Tarzan = Teaching_Asst('Tarzan Jungle ka Raja', 25000) # Make a Manager: __init__\n",
    "    Tarzan.Getsalary(.20) # Runs custom version of 25000 + 20% of 25000 + 10% of 25,000 = 25000 + 5000 + 2500 = 32500\n",
    "    \n",
    "    \n",
    "    print(Tarzan) "
   ]
  },
  {
   "cell_type": "markdown",
   "metadata": {},
   "source": [
    "As we notice Sarah is a Teacher who gets Salary 50,000 and a Percentage of 10% (.10), which makes if 55000\n",
    "\n",
    "10% bonus of 50,000 salary = 50,000 + 5000 == 55,000\n",
    "\n",
    "|\n",
    "\n",
    "\n",
    "Teaching Assistant Tarzan get a Percentage of its wages and a BONUS...both 10% and 20% respectively of 25000\n",
    "\n",
    "25000 + 20% of 25000 + 10% of 25,000 = 25000 + 5000 + 2500 == 32500"
   ]
  },
  {
   "cell_type": "code",
   "execution_count": null,
   "metadata": {},
   "outputs": [],
   "source": []
  },
  {
   "cell_type": "code",
   "execution_count": null,
   "metadata": {},
   "outputs": [],
   "source": []
  },
  {
   "cell_type": "code",
   "execution_count": null,
   "metadata": {},
   "outputs": [],
   "source": []
  },
  {
   "cell_type": "markdown",
   "metadata": {},
   "source": [
    "Question 5. \n",
    "\n",
    "How is the local scope of a class different from that of a function?"
   ]
  },
  {
   "cell_type": "markdown",
   "metadata": {},
   "source": [
    "A class is a local scope and has access to enclosing local scopes, but it does not serve as an enclosing local scope to further nested code. Like modules, the class local scope morphs into an attribute namespace after the class statement is run.\n"
   ]
  },
  {
   "cell_type": "code",
   "execution_count": null,
   "metadata": {},
   "outputs": [],
   "source": []
  },
  {
   "cell_type": "code",
   "execution_count": null,
   "metadata": {},
   "outputs": [],
   "source": []
  },
  {
   "cell_type": "code",
   "execution_count": null,
   "metadata": {},
   "outputs": [],
   "source": []
  },
  {
   "cell_type": "code",
   "execution_count": null,
   "metadata": {},
   "outputs": [],
   "source": []
  },
  {
   "cell_type": "markdown",
   "metadata": {},
   "source": [
    "                                                    ################## THE END #################"
   ]
  },
  {
   "cell_type": "code",
   "execution_count": null,
   "metadata": {},
   "outputs": [],
   "source": []
  },
  {
   "cell_type": "code",
   "execution_count": null,
   "metadata": {},
   "outputs": [],
   "source": []
  },
  {
   "cell_type": "code",
   "execution_count": null,
   "metadata": {},
   "outputs": [],
   "source": []
  },
  {
   "cell_type": "code",
   "execution_count": null,
   "metadata": {},
   "outputs": [],
   "source": []
  },
  {
   "cell_type": "code",
   "execution_count": null,
   "metadata": {},
   "outputs": [],
   "source": []
  },
  {
   "cell_type": "code",
   "execution_count": null,
   "metadata": {},
   "outputs": [],
   "source": []
  },
  {
   "cell_type": "code",
   "execution_count": null,
   "metadata": {},
   "outputs": [],
   "source": []
  },
  {
   "cell_type": "code",
   "execution_count": null,
   "metadata": {},
   "outputs": [],
   "source": []
  }
 ],
 "metadata": {
  "kernelspec": {
   "display_name": "Python 3",
   "language": "python",
   "name": "python3"
  },
  "language_info": {
   "codemirror_mode": {
    "name": "ipython",
    "version": 3
   },
   "file_extension": ".py",
   "mimetype": "text/x-python",
   "name": "python",
   "nbconvert_exporter": "python",
   "pygments_lexer": "ipython3",
   "version": "3.8.5"
  }
 },
 "nbformat": 4,
 "nbformat_minor": 4
}
