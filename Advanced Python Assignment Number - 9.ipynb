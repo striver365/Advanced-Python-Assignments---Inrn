{
 "cells": [
  {
   "cell_type": "code",
   "execution_count": 1,
   "metadata": {},
   "outputs": [
    {
     "data": {
      "text/html": [
       "<style>.container { width:95% !important; }</style>"
      ],
      "text/plain": [
       "<IPython.core.display.HTML object>"
      ]
     },
     "metadata": {},
     "output_type": "display_data"
    }
   ],
   "source": [
    "### To increase the width of all the Cells\n",
    "from IPython.core.display import display, HTML\n",
    "display(HTML(\"<style>.container { width:95% !important; }</style>\"))"
   ]
  },
  {
   "cell_type": "code",
   "execution_count": null,
   "metadata": {},
   "outputs": [],
   "source": []
  },
  {
   "cell_type": "markdown",
   "metadata": {},
   "source": [
    "Q1. \n",
    "\n",
    "In Python 3.X, what are the names and functions of string object types?"
   ]
  },
  {
   "cell_type": "markdown",
   "metadata": {},
   "source": [
    "Answer:\n",
    "\n",
    "|\n",
    "\n",
    "\n",
    "Python 3.X has three string types: str (for Unicode text, including ASCII), bytes\n",
    "(for binary data with absolute byte values), and bytearray (a mutable flavor of\n",
    "bytes). \n",
    "\n",
    "The str type usually represents content stored on a text file, and the other\n",
    "two types generally represent content stored on binary files.\n",
    "\n",
    "Files work in two modes: text, which represents content\n",
    "as str and implements Unicode encodings, and binary, which deals in raw bytes\n",
    "and does no data translation."
   ]
  },
  {
   "cell_type": "code",
   "execution_count": null,
   "metadata": {},
   "outputs": [],
   "source": []
  },
  {
   "cell_type": "code",
   "execution_count": null,
   "metadata": {},
   "outputs": [],
   "source": []
  },
  {
   "cell_type": "code",
   "execution_count": null,
   "metadata": {},
   "outputs": [],
   "source": []
  },
  {
   "cell_type": "markdown",
   "metadata": {},
   "source": [
    "Q2. \n",
    "\n",
    "How do the string forms in Python 3.X vary in terms of operations?"
   ]
  },
  {
   "cell_type": "markdown",
   "metadata": {},
   "source": [
    "Python 3.X’s string types share almost all the same operations: method calls, sequence operations, and even larger tools like pattern matching work the same way.\n",
    "\n",
    "On the other hand, only str supports string formatting operations, and bytear\n",
    "ray has an additional set of operations that perform in-place changes. \n",
    "\n",
    "The str and\n",
    "bytes types also have methods for encoding and decoding text, respectively.\n"
   ]
  },
  {
   "cell_type": "code",
   "execution_count": null,
   "metadata": {},
   "outputs": [],
   "source": []
  },
  {
   "cell_type": "code",
   "execution_count": null,
   "metadata": {},
   "outputs": [],
   "source": []
  },
  {
   "cell_type": "code",
   "execution_count": null,
   "metadata": {},
   "outputs": [],
   "source": []
  },
  {
   "cell_type": "markdown",
   "metadata": {},
   "source": [
    "Q3. \n",
    "\n",
    "In 3.X, how do you put non-ASCII Unicode characters in a string?"
   ]
  },
  {
   "cell_type": "markdown",
   "metadata": {},
   "source": [
    "Non-ASCII Unicode characters can be coded in a string with both hex (\\xNN) and\n",
    "Unicode (\\uNNNN, \\UNNNNNNNN) escapes. \n",
    "\n",
    "On some machines, some non-ASCII characters—certain Latin-1 characters, for example—can also be typed or pasted directly into code, and are interpreted per the UTF-8 default or a source code encoding directive comment."
   ]
  },
  {
   "cell_type": "code",
   "execution_count": null,
   "metadata": {},
   "outputs": [],
   "source": []
  },
  {
   "cell_type": "code",
   "execution_count": null,
   "metadata": {},
   "outputs": [],
   "source": []
  },
  {
   "cell_type": "code",
   "execution_count": null,
   "metadata": {},
   "outputs": [],
   "source": []
  },
  {
   "cell_type": "markdown",
   "metadata": {},
   "source": [
    "Q4. \n",
    "\n",
    "In Python 3.X, what are the key differences between text-mode and binary-mode files?"
   ]
  },
  {
   "cell_type": "markdown",
   "metadata": {},
   "source": [
    "In 3.X, text-mode files assume their file content is Unicode text (even if it’s all\n",
    "ASCII) and automatically decode when reading and encode when writing. With\n",
    "binary-mode files, bytes are transferred to and from the file unchanged. \n",
    "\n",
    "The contents of text-mode files are usually represented as str objects in your script, and\n",
    "the contents of binary files are represented as bytes (or bytearray) objects. \n",
    "\n",
    "Textmode files also handle the BOM for certain encoding types and automatically\n",
    "translate end-of-line sequences to and from the single \\n character on input and\n",
    "output unless this is explicitly disabled; binary-mode files do not perform either of\n",
    "these steps.\n",
    "\n",
    "Python 2.X uses codecs.open for Unicode files, which encodes and\n",
    "decodes similarly; 2.X’s open only translates line ends in text mode."
   ]
  },
  {
   "cell_type": "code",
   "execution_count": null,
   "metadata": {},
   "outputs": [],
   "source": []
  },
  {
   "cell_type": "code",
   "execution_count": null,
   "metadata": {},
   "outputs": [],
   "source": []
  },
  {
   "cell_type": "code",
   "execution_count": null,
   "metadata": {},
   "outputs": [],
   "source": []
  },
  {
   "cell_type": "markdown",
   "metadata": {},
   "source": [
    "Q5. \n",
    "\n",
    "How can you interpret a Unicode text file containing text encoded in a different encoding than\n",
    "your platform&#39;s default?"
   ]
  },
  {
   "cell_type": "markdown",
   "metadata": {},
   "source": [
    "To read files encoded in a different encoding than the default for your platform,\n",
    "simply pass the name of the file’s encoding to the open built-in in 3.X\n",
    "(codecs.open() in 2.X); \n",
    "\n",
    "data will be decoded per the specified encoding when it is\n",
    "read from the file. \n",
    "\n",
    "You can also read in binary mode and manually decode the bytes\n",
    "to a string by giving an encoding name, but this involves extra work and is somewhat error-prone for multibyte characters (you may accidentally read a partial\n",
    "character sequence)."
   ]
  },
  {
   "cell_type": "code",
   "execution_count": null,
   "metadata": {},
   "outputs": [],
   "source": []
  },
  {
   "cell_type": "code",
   "execution_count": null,
   "metadata": {},
   "outputs": [],
   "source": []
  },
  {
   "cell_type": "code",
   "execution_count": null,
   "metadata": {},
   "outputs": [],
   "source": []
  },
  {
   "cell_type": "markdown",
   "metadata": {},
   "source": [
    "Q6. \n",
    "\n",
    "What is the best way to make a Unicode text file in a particular encoding format?"
   ]
  },
  {
   "cell_type": "markdown",
   "metadata": {},
   "source": [
    "To create a Unicode text file in a specific encoding format, pass the desired encoding name to open in 3.X (codecs.open() in 2.X); strings will be encoded per the\n",
    "desired encoding when they are written to the file. \n",
    "\n",
    "You can also manually encode\n",
    "a string to bytes and write it in binary mode, but this is usually extra work"
   ]
  },
  {
   "cell_type": "code",
   "execution_count": null,
   "metadata": {},
   "outputs": [],
   "source": []
  },
  {
   "cell_type": "code",
   "execution_count": null,
   "metadata": {},
   "outputs": [],
   "source": []
  },
  {
   "cell_type": "code",
   "execution_count": null,
   "metadata": {},
   "outputs": [],
   "source": []
  },
  {
   "cell_type": "markdown",
   "metadata": {},
   "source": [
    "Q7. \n",
    "\n",
    "What qualifies ASCII text as a form of Unicode text?"
   ]
  },
  {
   "cell_type": "markdown",
   "metadata": {},
   "source": [
    "ASCII text is considered to be a kind of Unicode text, because its 7-bit range of\n",
    "values is a subset of most Unicode encodings. \n",
    "\n",
    "For example, valid ASCII text is also\n",
    "valid Latin-1 text (Latin-1 simply assigns the remaining possible values in an 8-bit\n",
    "byte to additional characters) and valid UTF-8 text (UTF-8 defines a variable-byte\n",
    "scheme for representing more characters, but ASCII characters are still represented\n",
    "with the same codes, in a single byte). \n",
    "\n",
    "This makes Unicode backward-compatible\n",
    "with the mass of ASCII text data in the world (though it also may have limited its\n",
    "options—self-identifying text, for instance, may have been difficult (though BOMs\n",
    "serve much the same role)."
   ]
  },
  {
   "cell_type": "code",
   "execution_count": null,
   "metadata": {},
   "outputs": [],
   "source": []
  },
  {
   "cell_type": "code",
   "execution_count": null,
   "metadata": {},
   "outputs": [],
   "source": []
  },
  {
   "cell_type": "code",
   "execution_count": null,
   "metadata": {},
   "outputs": [],
   "source": []
  },
  {
   "cell_type": "markdown",
   "metadata": {},
   "source": [
    "Q8.\n",
    "\n",
    "How much of an effect does the change in string types in Python 3.X have on your code?"
   ]
  },
  {
   "cell_type": "markdown",
   "metadata": {},
   "source": [
    "The impact of Python 3.X’s string types change depends upon the types of strings\n",
    "you use. For scripts that use simple ASCII text on platforms with ASCII-compatible\n",
    "default encodings, the impact is probably minor: the str string type works the same\n",
    "in 2.X and 3.X in this case. \n",
    "\n",
    "Moreover, although string-related tools in the standard\n",
    "library such as re, struct, pickle, and xml may technically use different types in\n",
    "3.X than in 2.X, the changes are largely irrelevant to most programs because 3.X’s\n",
    "str and bytes and 2.X’s str support almost identical interfaces. \n",
    "\n",
    "If you process\n",
    "Unicode data, the toolset you need has simply moved from 2.X’s unicode and\n",
    "codecs.open() to 3.X’s str and open. \n",
    "\n",
    "If you deal with binary data files, you’ll need\n",
    "to deal with content as bytes objects; since they have a similar interface to 2.X\n",
    "strings, though, the impact should again be minimal. \n",
    "\n",
    "That said, the update of the\n",
    "book Programming Python for 3.X ran across numerous cases where Unicode’s\n",
    "mandatory status in 3.X implied changes in standard library APIs—from networking and GUIs, to databases and email. In general, Unicode will probably impact\n",
    "most 3.X users eventually."
   ]
  },
  {
   "cell_type": "code",
   "execution_count": null,
   "metadata": {},
   "outputs": [],
   "source": []
  },
  {
   "cell_type": "code",
   "execution_count": null,
   "metadata": {},
   "outputs": [],
   "source": []
  },
  {
   "cell_type": "code",
   "execution_count": null,
   "metadata": {},
   "outputs": [],
   "source": []
  },
  {
   "cell_type": "markdown",
   "metadata": {},
   "source": [
    "                                ************************ END **************************"
   ]
  },
  {
   "cell_type": "code",
   "execution_count": null,
   "metadata": {},
   "outputs": [],
   "source": []
  },
  {
   "cell_type": "code",
   "execution_count": null,
   "metadata": {},
   "outputs": [],
   "source": []
  },
  {
   "cell_type": "code",
   "execution_count": null,
   "metadata": {},
   "outputs": [],
   "source": []
  }
 ],
 "metadata": {
  "kernelspec": {
   "display_name": "Python 3",
   "language": "python",
   "name": "python3"
  },
  "language_info": {
   "codemirror_mode": {
    "name": "ipython",
    "version": 3
   },
   "file_extension": ".py",
   "mimetype": "text/x-python",
   "name": "python",
   "nbconvert_exporter": "python",
   "pygments_lexer": "ipython3",
   "version": "3.8.5"
  }
 },
 "nbformat": 4,
 "nbformat_minor": 4
}
