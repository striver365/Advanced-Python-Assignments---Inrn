{
 "cells": [
  {
   "cell_type": "code",
   "execution_count": null,
   "metadata": {},
   "outputs": [],
   "source": []
  },
  {
   "cell_type": "markdown",
   "metadata": {},
   "source": [
    "Question 1.\n",
    "\n",
    "What is the purpose of Python&#39;s OOP?"
   ]
  },
  {
   "cell_type": "markdown",
   "metadata": {},
   "source": [
    "The Purpose of Python OOP can be explained as to why Python itself was designed\n",
    "\n",
    "* Python was designed with an Object Oriented approach. The reason behind it is a tool is to be devised, that can be used in order to solve real-world cases.\n",
    "\n",
    "|\n",
    "\n",
    "* Python's OOP provides a structured pattern, which would provide means to create programs that takes into account the Properties/Attributes and Behaviour of individual objects.\n",
    "These programs would define the individual objects and its pertaining attributes (which are physical attributes)\n",
    "and Behaviour (which are performance attributes).\n",
    "\n",
    "|\n",
    "\n",
    "* Python's OOP can be shareable and therefore the purpose of its code is that it can be re-used.\n",
    "\n",
    "\n",
    "|\n",
    "\n",
    "* The above can classify (a) A Car  or  (b) A Person.  Wherein if we need to define the attributes and Behavious or either of the object (a) or (b)\n",
    "can be done so with the help of Python's OOP.\n",
    "\n",
    "|\n",
    "\n",
    "* Another Purpose of OOP is the ability to have the PROCEDURAL PROGRAMMING. It means OOP has a distinct property of having a Top-Down flow in its program, which is sequential based in order to achieve a certain task."
   ]
  },
  {
   "cell_type": "code",
   "execution_count": null,
   "metadata": {},
   "outputs": [],
   "source": []
  },
  {
   "cell_type": "code",
   "execution_count": null,
   "metadata": {},
   "outputs": [],
   "source": []
  },
  {
   "cell_type": "code",
   "execution_count": null,
   "metadata": {},
   "outputs": [],
   "source": []
  },
  {
   "cell_type": "code",
   "execution_count": null,
   "metadata": {},
   "outputs": [],
   "source": []
  },
  {
   "cell_type": "code",
   "execution_count": null,
   "metadata": {},
   "outputs": [],
   "source": []
  },
  {
   "cell_type": "markdown",
   "metadata": {},
   "source": [
    "Question 2. \n",
    "\n",
    "Where does an inheritance search look for an attribute?"
   ]
  },
  {
   "cell_type": "markdown",
   "metadata": {},
   "source": [
    "An Inheritance takes place when an object is qualified and is a part of the attribute definition tree. The term is applied because objects that are class defined which are in Lower Heirarchy inherits the attributes from the Higher Heirarchy.\n",
    "\n",
    "* The Inheritance search looks for an attribute ===> In an Inheritance Tree from the Bottom to top looking for the lowest occurence of an attribute name.\n",
    "\n",
    "In other words,through an example let us presume the following heirarchy\n",
    "\n",
    "                                   SuperClass 1--------------- |---------------------Super Class 2\n",
    "                                                               |\n",
    "                                                               |\n",
    "                                                               |\n",
    "                                                             Class\n",
    "                                                               |\n",
    "                                                               |\n",
    "                                                               |\n",
    "                                                            Instance\n",
    "                                                               |\n",
    "                                                               |\n",
    "                                                               |\n",
    "                                                        Object.Attribute\n",
    "                                                 \n",
    "\n",
    "\n",
    "Therefore the Inheritance search for the attributes will be from an Instance, to the class it was generated from, and to all the SuperClass it was generated from."
   ]
  },
  {
   "cell_type": "code",
   "execution_count": null,
   "metadata": {},
   "outputs": [],
   "source": []
  },
  {
   "cell_type": "code",
   "execution_count": null,
   "metadata": {},
   "outputs": [],
   "source": []
  },
  {
   "cell_type": "code",
   "execution_count": null,
   "metadata": {},
   "outputs": [],
   "source": []
  },
  {
   "cell_type": "code",
   "execution_count": null,
   "metadata": {},
   "outputs": [],
   "source": []
  },
  {
   "cell_type": "code",
   "execution_count": null,
   "metadata": {},
   "outputs": [],
   "source": []
  },
  {
   "cell_type": "markdown",
   "metadata": {},
   "source": [
    "Question 3. \n",
    "\n",
    "How do you distinguish between a class object and an instance object?"
   ]
  },
  {
   "cell_type": "markdown",
   "metadata": {},
   "source": [
    "Class Object, is the Class NAME that we assign when creating a Class.\n",
    "\n",
    "|\n",
    "\n",
    "* A Class Object can be created only once and are unique.\n",
    "\n",
    "|\n",
    "\n",
    "* Class object are used to call the static Class variable, which are within each Class and in order to return the value of these static variable, the Class Object is used.\n",
    "\n",
    "|\n",
    "\n",
    "* We access the Class name through Class object.\n",
    "\n",
    "|\n",
    "\n",
    "Example Below:      \n",
    "   "
   ]
  },
  {
   "cell_type": "code",
   "execution_count": 4,
   "metadata": {},
   "outputs": [
    {
     "data": {
      "text/plain": [
       "'Class_Obj.stat_member_var'"
      ]
     },
     "execution_count": 4,
     "metadata": {},
     "output_type": "execute_result"
    }
   ],
   "source": [
    "class Test1():\n",
    "    static_var = \"Class_Obj.stat_member_var\"\n",
    "    \n",
    "    def __init__(self, a, b):\n",
    "        self.a = a\n",
    "        self.b = b\n",
    "        \n",
    "    def show_all(self):\n",
    "        print(self.a, self.b)\n",
    "        \n",
    "### Create a Class Object and return the static variable\n",
    "\n",
    "Test1.static_var"
   ]
  },
  {
   "cell_type": "markdown",
   "metadata": {},
   "source": [
    "`static_var` is the Class Variable and\n",
    "\n",
    "`Test1` is the Class Object."
   ]
  },
  {
   "cell_type": "code",
   "execution_count": null,
   "metadata": {},
   "outputs": [],
   "source": []
  },
  {
   "cell_type": "code",
   "execution_count": null,
   "metadata": {},
   "outputs": [],
   "source": []
  },
  {
   "cell_type": "markdown",
   "metadata": {},
   "source": [
    "* Instance Object on the other hand can be created any number of multiple times.\n",
    "\n",
    "|\n",
    "\n",
    "* In order to create Instance Object, we include a Parenthesis after the Class Name. This becomes a function and when called becomes an Instance Object.\n",
    "\n",
    "|\n",
    "\n",
    "\n",
    "* The Class Instance Object is called through a reference variable. This reference variable will become an Instance Object Once we assign it to Class_Name ()\n",
    "\n",
    "|\n",
    "\n",
    "\n",
    "* The Instance Object returns automatically instead of any BRUTE force that is required to call the CLASS OBJECT.\n",
    "\n",
    "|\n",
    "\n",
    "\n",
    "* Even though there are only 2 arguments created by the compiler. The Class has 3 POSITIONAL ARGUMENTS. Which are `self, a, b`.\n",
    "\n",
    "\n",
    "\n",
    "* This means we only have to pass 2 Arguments as the 1st Argument is passed through Instance Object."
   ]
  },
  {
   "cell_type": "code",
   "execution_count": 6,
   "metadata": {},
   "outputs": [
    {
     "name": "stdout",
     "output_type": "stream",
     "text": [
      "3 4\n"
     ]
    }
   ],
   "source": [
    "Instance_object = Test1(3, 4)\n",
    "Instance_object.show_all()"
   ]
  },
  {
   "cell_type": "markdown",
   "metadata": {},
   "source": [
    "`Instance_object` is the Instance Object."
   ]
  },
  {
   "cell_type": "code",
   "execution_count": 7,
   "metadata": {},
   "outputs": [
    {
     "name": "stdout",
     "output_type": "stream",
     "text": [
      "New York Oslo\n"
     ]
    }
   ],
   "source": [
    "Instance_object_2 = Test1(\"New York\", \"Oslo\")\n",
    "Instance_object_2.show_all()"
   ]
  },
  {
   "cell_type": "markdown",
   "metadata": {},
   "source": [
    "We can create Multiple Instance Objects, unlike for Class Objects."
   ]
  },
  {
   "cell_type": "code",
   "execution_count": null,
   "metadata": {},
   "outputs": [],
   "source": []
  },
  {
   "cell_type": "code",
   "execution_count": null,
   "metadata": {},
   "outputs": [],
   "source": []
  },
  {
   "cell_type": "code",
   "execution_count": null,
   "metadata": {},
   "outputs": [],
   "source": []
  },
  {
   "cell_type": "code",
   "execution_count": null,
   "metadata": {},
   "outputs": [],
   "source": []
  },
  {
   "cell_type": "code",
   "execution_count": null,
   "metadata": {},
   "outputs": [],
   "source": []
  },
  {
   "cell_type": "markdown",
   "metadata": {},
   "source": [
    "Question 4. What makes the first argument in a class’s method function special?"
   ]
  },
  {
   "cell_type": "markdown",
   "metadata": {},
   "source": [
    "The first argument in a Class's method is mainly represented by the keyword `self`. The reason it is special is because it is able to represent an Instance of the class.\n",
    "\n",
    "|\n",
    "\n",
    "\n",
    "Remember in the last question the Instance Object is the reference variable, where only 2 arguments is to be passed instead of 3. The reason being `self` in the Instance of that class.\n",
    "\n",
    "\n",
    "|\n",
    "\n",
    "The `self` keyword is able to create attributes and methods of Class in python. It is able to bind the attributes for a given object.\n",
    "\n",
    "\n",
    "|\n",
    "\n",
    "* `self` is the first argument that is passed as a Constructor (That is Class Methods) and also in Instance Methods.\n",
    "\n",
    "*  `self` could act as a pointer to objects withi the Class Methods."
   ]
  },
  {
   "cell_type": "code",
   "execution_count": null,
   "metadata": {},
   "outputs": [],
   "source": []
  },
  {
   "cell_type": "code",
   "execution_count": null,
   "metadata": {},
   "outputs": [],
   "source": []
  },
  {
   "cell_type": "code",
   "execution_count": null,
   "metadata": {},
   "outputs": [],
   "source": []
  },
  {
   "cell_type": "code",
   "execution_count": null,
   "metadata": {},
   "outputs": [],
   "source": []
  },
  {
   "cell_type": "code",
   "execution_count": null,
   "metadata": {},
   "outputs": [],
   "source": []
  },
  {
   "cell_type": "markdown",
   "metadata": {},
   "source": [
    "Question 5.\n",
    "\n",
    "What is the purpose of the __ init __ method?"
   ]
  },
  {
   "cell_type": "markdown",
   "metadata": {},
   "source": [
    "The `__init__` is a Constructor method that initializes method variables and defines the state of the object. \n",
    "\n",
    "* The main purpose of the `__init__` method is that it assigns values to the variables when an object of the Class is created.\n",
    "\n",
    "\n",
    "* Any sort of initialization is required is performed by the `__init__` method.\n",
    "\n",
    "* When creating a new Instance there is no requirement of passing the Class Method, as the `__init__` method points to the variables when the values are assigned by the complier."
   ]
  },
  {
   "cell_type": "code",
   "execution_count": null,
   "metadata": {},
   "outputs": [],
   "source": []
  },
  {
   "cell_type": "code",
   "execution_count": null,
   "metadata": {},
   "outputs": [],
   "source": []
  },
  {
   "cell_type": "code",
   "execution_count": null,
   "metadata": {},
   "outputs": [],
   "source": []
  },
  {
   "cell_type": "code",
   "execution_count": null,
   "metadata": {},
   "outputs": [],
   "source": []
  },
  {
   "cell_type": "code",
   "execution_count": null,
   "metadata": {},
   "outputs": [],
   "source": []
  },
  {
   "cell_type": "markdown",
   "metadata": {},
   "source": [
    "Question 6.\n",
    "\n",
    "What is the process for creating a class instance?"
   ]
  },
  {
   "cell_type": "markdown",
   "metadata": {},
   "source": [
    "Class Instance in OOP is to realize an object, which are varied in many ways. Each time the realization is varied creates an Instance for the Class.\n",
    "\n",
    "To create an Instance of a Class you call the class using class name (when creating it) and pass in the arguments which were created when the Constructor was created (`__init__` method).\n",
    "\n",
    "For example:"
   ]
  },
  {
   "cell_type": "code",
   "execution_count": 12,
   "metadata": {},
   "outputs": [],
   "source": [
    "class Employee:\n",
    "    \n",
    "    def __init__(self, name, salary):\n",
    "        self.name = name\n",
    "        self.salary = salary\n",
    "        \n",
    "    def show_details(self):\n",
    "        print(self.name, self.salary)"
   ]
  },
  {
   "cell_type": "code",
   "execution_count": 13,
   "metadata": {},
   "outputs": [],
   "source": [
    "emp1 = Employee(\"DharaSingh\", 50000000000000000000)"
   ]
  },
  {
   "cell_type": "code",
   "execution_count": 14,
   "metadata": {},
   "outputs": [
    {
     "name": "stdout",
     "output_type": "stream",
     "text": [
      "DharaSingh 50000000000000000000\n"
     ]
    }
   ],
   "source": [
    "emp1.show_details()"
   ]
  },
  {
   "cell_type": "code",
   "execution_count": null,
   "metadata": {},
   "outputs": [],
   "source": []
  },
  {
   "cell_type": "code",
   "execution_count": null,
   "metadata": {},
   "outputs": [],
   "source": []
  },
  {
   "cell_type": "code",
   "execution_count": null,
   "metadata": {},
   "outputs": [],
   "source": []
  },
  {
   "cell_type": "code",
   "execution_count": null,
   "metadata": {},
   "outputs": [],
   "source": []
  },
  {
   "cell_type": "code",
   "execution_count": null,
   "metadata": {},
   "outputs": [],
   "source": []
  },
  {
   "cell_type": "markdown",
   "metadata": {},
   "source": [
    "Question 7. \n",
    "\n",
    "What is the process for creating a class?"
   ]
  },
  {
   "cell_type": "markdown",
   "metadata": {},
   "source": [
    "Python is built on the concept of OOP (Object Oriented Programming) and therefore assigning objects is possible in python that binds its attributes and methods.\n",
    "\n",
    "|\n",
    "\n",
    "\n",
    "A Class is an Object Constructor, and can be created through the keyword `class`."
   ]
  },
  {
   "cell_type": "code",
   "execution_count": 15,
   "metadata": {},
   "outputs": [],
   "source": [
    "class Type1():\n",
    "    static_type1_var = 500"
   ]
  },
  {
   "cell_type": "code",
   "execution_count": 16,
   "metadata": {},
   "outputs": [
    {
     "data": {
      "text/plain": [
       "500"
      ]
     },
     "execution_count": 16,
     "metadata": {},
     "output_type": "execute_result"
    }
   ],
   "source": [
    "Type1.static_type1_var"
   ]
  },
  {
   "cell_type": "code",
   "execution_count": null,
   "metadata": {},
   "outputs": [],
   "source": []
  },
  {
   "cell_type": "code",
   "execution_count": null,
   "metadata": {},
   "outputs": [],
   "source": []
  },
  {
   "cell_type": "code",
   "execution_count": null,
   "metadata": {},
   "outputs": [],
   "source": []
  },
  {
   "cell_type": "code",
   "execution_count": null,
   "metadata": {},
   "outputs": [],
   "source": []
  },
  {
   "cell_type": "code",
   "execution_count": null,
   "metadata": {},
   "outputs": [],
   "source": []
  },
  {
   "cell_type": "markdown",
   "metadata": {},
   "source": [
    "Question 8. \n",
    "\n",
    "How would you define the superclasses of a class?"
   ]
  },
  {
   "cell_type": "markdown",
   "metadata": {},
   "source": [
    "A class in Python that inherits all the properties and attributes from another class, which is typically placed at the TOP of the tree attributes.\n",
    "\n",
    "|\n",
    "\n",
    "If Class_B inherits attributes and methods from Class_A. Then Class_A is known to be the SuperClass or the ParentClass. There exists a heirarchy among the classes, which is very similar to relationships of real-life.\n",
    "\n",
    "|\n",
    "\n",
    "The Class_B is known as the SubCLass or the Child Class."
   ]
  },
  {
   "cell_type": "code",
   "execution_count": 19,
   "metadata": {},
   "outputs": [],
   "source": [
    "class Boss():\n",
    "    \n",
    "    def __init__(self, company, billions):\n",
    "        self.company = company\n",
    "        self.billions = billions\n",
    "        \n",
    "    def net_worth(self):\n",
    "        print(self.company, self.billions)\n",
    "        \n",
    "class Jose(Boss):\n",
    "    pass"
   ]
  },
  {
   "cell_type": "code",
   "execution_count": 22,
   "metadata": {},
   "outputs": [],
   "source": [
    "Jose_ = Jose(\"Fintech\", 9)"
   ]
  },
  {
   "cell_type": "code",
   "execution_count": 23,
   "metadata": {},
   "outputs": [
    {
     "name": "stdout",
     "output_type": "stream",
     "text": [
      "Fintech 9\n"
     ]
    }
   ],
   "source": [
    "Jose_.net_worth()"
   ]
  },
  {
   "cell_type": "code",
   "execution_count": null,
   "metadata": {},
   "outputs": [],
   "source": []
  },
  {
   "cell_type": "code",
   "execution_count": null,
   "metadata": {},
   "outputs": [],
   "source": []
  },
  {
   "cell_type": "code",
   "execution_count": null,
   "metadata": {},
   "outputs": [],
   "source": []
  },
  {
   "cell_type": "markdown",
   "metadata": {},
   "source": [
    "                                            \"\"\"\"\"\"\"\"\"\"\"\"\"\"\"\"\"\"\"\"The End \"\"\"\"\"\"\"\"\"\"\"\"\"\"\"\"\"\"'''"
   ]
  },
  {
   "cell_type": "code",
   "execution_count": null,
   "metadata": {},
   "outputs": [],
   "source": []
  },
  {
   "cell_type": "code",
   "execution_count": null,
   "metadata": {},
   "outputs": [],
   "source": []
  },
  {
   "cell_type": "code",
   "execution_count": null,
   "metadata": {},
   "outputs": [],
   "source": []
  },
  {
   "cell_type": "code",
   "execution_count": null,
   "metadata": {},
   "outputs": [],
   "source": []
  },
  {
   "cell_type": "code",
   "execution_count": null,
   "metadata": {},
   "outputs": [],
   "source": []
  },
  {
   "cell_type": "code",
   "execution_count": null,
   "metadata": {},
   "outputs": [],
   "source": []
  },
  {
   "cell_type": "code",
   "execution_count": null,
   "metadata": {},
   "outputs": [],
   "source": []
  },
  {
   "cell_type": "code",
   "execution_count": null,
   "metadata": {},
   "outputs": [],
   "source": []
  }
 ],
 "metadata": {
  "kernelspec": {
   "display_name": "Python 3",
   "language": "python",
   "name": "python3"
  },
  "language_info": {
   "codemirror_mode": {
    "name": "ipython",
    "version": 3
   },
   "file_extension": ".py",
   "mimetype": "text/x-python",
   "name": "python",
   "nbconvert_exporter": "python",
   "pygments_lexer": "ipython3",
   "version": "3.8.5"
  }
 },
 "nbformat": 4,
 "nbformat_minor": 4
}
