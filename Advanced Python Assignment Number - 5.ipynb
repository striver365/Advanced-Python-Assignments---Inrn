{
 "cells": [
  {
   "cell_type": "code",
   "execution_count": null,
   "metadata": {},
   "outputs": [],
   "source": []
  },
  {
   "cell_type": "markdown",
   "metadata": {},
   "source": [
    "Question Q1. \n",
    "\n",
    "What is the meaning of multiple inheritance?"
   ]
  },
  {
   "cell_type": "markdown",
   "metadata": {},
   "source": [
    "Inheritance is a concept in programming that allows the re-usability of code from one class to another class. The constructor code can be derived from a Parent Class(Base Class) to a Child Class (Sub-Class).\n",
    "\n",
    "|\n",
    "\n",
    "Multiple Inheritance is when the attribute inheritance happens from more than one Parent Class. The left-toright order in class statement headers determines the general order of attribute searches."
   ]
  },
  {
   "cell_type": "code",
   "execution_count": 1,
   "metadata": {},
   "outputs": [],
   "source": [
    "class Base1():\n",
    "    pass\n",
    "class Base2():\n",
    "    pass\n",
    "\n",
    "class SubClass(Base1, Base2): ## the left - to -right class statement headers gives the Class in the left side determines the general order of attribute searches.\n",
    "    pass"
   ]
  },
  {
   "cell_type": "code",
   "execution_count": null,
   "metadata": {},
   "outputs": [],
   "source": []
  },
  {
   "cell_type": "code",
   "execution_count": null,
   "metadata": {},
   "outputs": [],
   "source": []
  },
  {
   "cell_type": "code",
   "execution_count": null,
   "metadata": {},
   "outputs": [],
   "source": []
  },
  {
   "cell_type": "markdown",
   "metadata": {},
   "source": [
    "Question Q2. \n",
    "\n",
    "What is the concept of delegation?"
   ]
  },
  {
   "cell_type": "markdown",
   "metadata": {},
   "source": [
    "Delegation is an object oriented technique (also called a design pattern). Let's say you have an object x and want to change the behaviour of just one of its methods. \n",
    "\n",
    "You can create a new class that provides a new implementation of the method you're interested in changing and delegates all other methods to the corresponding method.\n",
    "\n",
    "|\n",
    "\n",
    "Delegation provides a proxy object for any class that you want on top of the main class. It wraps around the main class to as to limit the usage of main class attributes. It wraps the object of the main class into smaller object with limited access.\n",
    "\n",
    "|\n",
    "\n",
    "Example:"
   ]
  },
  {
   "cell_type": "code",
   "execution_count": 76,
   "metadata": {},
   "outputs": [],
   "source": [
    "class Salary():\n",
    "    def __init__(self, pay, bonus):\n",
    "        self.pay = pay\n",
    "        self.bonus = bonus \n",
    "        \n",
    "    def annual_ctc(self):\n",
    "        return (self.pay * 12) + self.bonus\n",
    "    \n",
    "class Worker():\n",
    "    def __init__(self, name, age, pay, bonus):\n",
    "        self.name = name\n",
    "        self.age = age\n",
    "        self.obj_gross_pay = Salary(pay, bonus) ## This is where we delegate, by assigning the variable obj_gross_pay ===> to class Salary(pay, bonus)\n",
    "        \n",
    "    def display_total_sal(self):\n",
    "        return self.obj_gross_pay.annual_ctc()"
   ]
  },
  {
   "cell_type": "code",
   "execution_count": 77,
   "metadata": {},
   "outputs": [
    {
     "data": {
      "text/plain": [
       "12200000"
      ]
     },
     "execution_count": 77,
     "metadata": {},
     "output_type": "execute_result"
    }
   ],
   "source": [
    "obj_emp1 = Worker(\"Smith\", \"22\", 1000000, 200000)\n",
    "obj_emp1.display_total_sal()"
   ]
  },
  {
   "cell_type": "markdown",
   "metadata": {},
   "source": [
    "So basically we were able to call a Method from one Class to another WITHOUT INHERITANCE.\n",
    "\n",
    "|\n",
    "\n",
    "* It is due to we delegated the variable `obj_gross_pay` with the class `Salary(pay, bonus)` with pay and bonus as the constructor variable which will be included.\n",
    "\n",
    "|\n",
    "\n",
    "* The total value is then displayed in the `Worker` class, displaying the pay and bonus (which is calculated in the `Salary` class)"
   ]
  },
  {
   "cell_type": "code",
   "execution_count": null,
   "metadata": {},
   "outputs": [],
   "source": []
  },
  {
   "cell_type": "code",
   "execution_count": null,
   "metadata": {},
   "outputs": [],
   "source": []
  },
  {
   "cell_type": "code",
   "execution_count": null,
   "metadata": {},
   "outputs": [],
   "source": []
  },
  {
   "cell_type": "markdown",
   "metadata": {},
   "source": [
    "Question Q3. \n",
    "\n",
    "What is the concept of composition?"
   ]
  },
  {
   "cell_type": "markdown",
   "metadata": {},
   "source": [
    "Composition is a technique whereby a controller class embeds and directs a number of objects, and provides an interface all its own; it’s a way to build up larger structures with classes.\n",
    "\n",
    "|\n",
    "\n",
    "Composition is a concept that models a has a relationship. It enables creating complex types by combining objects of other types. This means that a class Composite can contain an object of another class Component. This relationship means that a Composite has a Component.\n",
    "\n",
    "|\n",
    "\n",
    "Example"
   ]
  },
  {
   "cell_type": "code",
   "execution_count": 80,
   "metadata": {},
   "outputs": [],
   "source": [
    "class Component():\n",
    "    \n",
    "    def __init__(self):\n",
    "        self.object = \"Constructor of Component Class \"\n",
    "        \n",
    "    def method_component(self):\n",
    "        return \"Method inside Component Class executed \"\n",
    "    \n",
    "class Composite():\n",
    "    \n",
    "    def __init__(self):\n",
    "        self.object_composite = Component() ## Object created inside the Composite Class which has Component Class as the value assigned.\n",
    "        \n",
    "    def method_composite(self):\n",
    "        return self.object_composite.method_component() ## Object to return the value of a Method inside the Component Class...without Inheriting"
   ]
  },
  {
   "cell_type": "code",
   "execution_count": 81,
   "metadata": {},
   "outputs": [
    {
     "data": {
      "text/plain": [
       "'Method inside Component Class executed '"
      ]
     },
     "execution_count": 81,
     "metadata": {},
     "output_type": "execute_result"
    }
   ],
   "source": [
    "obj_class_2 = Composite()\n",
    "obj_class_2.method_composite()"
   ]
  },
  {
   "cell_type": "markdown",
   "metadata": {},
   "source": [
    "Inside the `Composite` Class we created an object where the value assigned to the Variable is the Class `Component`.\n",
    "\n",
    "|\n",
    "\n",
    "* This object inside the `Composite` class will then point towards getting a method from the `Component` class...\n",
    "\n",
    "such as ===> `object_composite.method_component()` and returns the value within it.\n",
    "\n",
    "|\n",
    "\n",
    "* This is an alternate way of returning the value from another class, without Inheritance attributes."
   ]
  },
  {
   "cell_type": "code",
   "execution_count": null,
   "metadata": {},
   "outputs": [],
   "source": []
  },
  {
   "cell_type": "code",
   "execution_count": null,
   "metadata": {},
   "outputs": [],
   "source": []
  },
  {
   "cell_type": "code",
   "execution_count": null,
   "metadata": {},
   "outputs": [],
   "source": []
  },
  {
   "cell_type": "markdown",
   "metadata": {},
   "source": [
    "Question Q4. \n",
    "\n",
    "What are bound methods and how do we use them?"
   ]
  },
  {
   "cell_type": "markdown",
   "metadata": {},
   "source": [
    "Bound methods combine an instance and a method function; you can call them without passing in an instance object explicitly because the previous instance object will still be re-used.\n",
    "\n",
    "|\n",
    "\n",
    "A bound method is the one which is dependent on the instance of the class as the first argument. It passes the instance as the first argument which is used to access the variables and functions. In Python3; however by default all functions inside the class are by default `Bound Methods`.\n",
    "\n",
    "|\n",
    "\n",
    "Example"
   ]
  },
  {
   "cell_type": "code",
   "execution_count": 83,
   "metadata": {},
   "outputs": [
    {
     "name": "stdout",
     "output_type": "stream",
     "text": [
      "Previous Car model was Demon Roadster\n",
      "Newer Car model is  HellCat 700\n"
     ]
    }
   ],
   "source": [
    "class Dodge():\n",
    "    model = \"Demon Roadster\"\n",
    "    \n",
    "    @classmethod\n",
    "    \n",
    "    def change_models(cls, model):\n",
    "        cls.model = model\n",
    "        \n",
    "        \n",
    "car_dodge = Dodge()\n",
    "print(\"Previous Car model was\", car_dodge.model)\n",
    "\n",
    "car_dodge.model = \"HellCat 700\"\n",
    "\n",
    "print(\"Newer Car model is \", car_dodge.model) ### This is bound method"
   ]
  },
  {
   "cell_type": "markdown",
   "metadata": {},
   "source": [
    "This involves overriding the Class variable, using the Class Instance object. We do not have to create a new object to change the values, as we can perform it using the `class method` where an `class_method` is created and within it a `class_variable` (namely cls.var = var).... which can assign any values outside the class.\n",
    "\n",
    "|\n",
    "\n",
    "The bound method is where you can change the values and assign a new one to the class/instance variables and call them using instance objects."
   ]
  },
  {
   "cell_type": "code",
   "execution_count": null,
   "metadata": {},
   "outputs": [],
   "source": []
  },
  {
   "cell_type": "code",
   "execution_count": null,
   "metadata": {},
   "outputs": [],
   "source": []
  },
  {
   "cell_type": "code",
   "execution_count": null,
   "metadata": {},
   "outputs": [],
   "source": []
  },
  {
   "cell_type": "markdown",
   "metadata": {},
   "source": [
    "Question Q5. \n",
    "\n",
    "What is the purpose of pseudoprivate attributes?"
   ]
  },
  {
   "cell_type": "markdown",
   "metadata": {},
   "source": [
    "Pseudoprivate attributes (whose names begin but do not end with two leading underscores: __ X) are used to localize names to the enclosing class. This includes both class attributes like methods defined inside the class, and self instance attributes assigned inside the class’s methods. \n",
    "\n",
    "Such names are expanded to include the class name, which makes them generally unique.\n",
    "\n",
    "|\n",
    "\n",
    "Python OOP's does not have Private or Protected Attributes, but what it does have is pseudo-Private attributes that are represented by double underscore `__`.\n",
    "\n",
    "|\n",
    "\n",
    "Example:"
   ]
  },
  {
   "cell_type": "code",
   "execution_count": 84,
   "metadata": {},
   "outputs": [],
   "source": [
    "class Personal_info():\n",
    "    def __init__(self):\n",
    "        self.__name = \"John Smith\"\n",
    "    def __say(self):\n",
    "        print(self.__name)\n",
    "\n",
    "\n",
    "        \n",
    "obj_info = Personal_info()\n"
   ]
  },
  {
   "cell_type": "code",
   "execution_count": 85,
   "metadata": {},
   "outputs": [
    {
     "ename": "AttributeError",
     "evalue": "'Personal_info' object has no attribute '__say'",
     "output_type": "error",
     "traceback": [
      "\u001b[1;31m---------------------------------------------------------------------------\u001b[0m",
      "\u001b[1;31mAttributeError\u001b[0m                            Traceback (most recent call last)",
      "\u001b[1;32m<ipython-input-85-a0586e2c375a>\u001b[0m in \u001b[0;36m<module>\u001b[1;34m\u001b[0m\n\u001b[1;32m----> 1\u001b[1;33m \u001b[0mobj_info\u001b[0m\u001b[1;33m.\u001b[0m\u001b[0m__say\u001b[0m\u001b[1;33m(\u001b[0m\u001b[1;33m)\u001b[0m\u001b[1;33m\u001b[0m\u001b[1;33m\u001b[0m\u001b[0m\n\u001b[0m",
      "\u001b[1;31mAttributeError\u001b[0m: 'Personal_info' object has no attribute '__say'"
     ]
    }
   ],
   "source": [
    "obj_info.__say()"
   ]
  },
  {
   "cell_type": "markdown",
   "metadata": {},
   "source": [
    "As you can see we cannot directly return the Private Class, therefore we need to perform Name Mangling."
   ]
  },
  {
   "cell_type": "code",
   "execution_count": 87,
   "metadata": {},
   "outputs": [
    {
     "name": "stdout",
     "output_type": "stream",
     "text": [
      "John Smith\n"
     ]
    }
   ],
   "source": [
    "obj_info._Personal_info__say()"
   ]
  },
  {
   "cell_type": "code",
   "execution_count": 88,
   "metadata": {},
   "outputs": [
    {
     "data": {
      "text/plain": [
       "'John Smith'"
      ]
     },
     "execution_count": 88,
     "metadata": {},
     "output_type": "execute_result"
    }
   ],
   "source": [
    "obj_info._Personal_info__name"
   ]
  },
  {
   "cell_type": "markdown",
   "metadata": {},
   "source": [
    "Name Mangling involves using the instance object, with Class Name and method name (Private method)."
   ]
  },
  {
   "cell_type": "code",
   "execution_count": null,
   "metadata": {},
   "outputs": [],
   "source": []
  },
  {
   "cell_type": "code",
   "execution_count": null,
   "metadata": {},
   "outputs": [],
   "source": []
  },
  {
   "cell_type": "code",
   "execution_count": null,
   "metadata": {},
   "outputs": [],
   "source": []
  },
  {
   "cell_type": "code",
   "execution_count": null,
   "metadata": {},
   "outputs": [],
   "source": []
  },
  {
   "cell_type": "markdown",
   "metadata": {},
   "source": [
    "                                                ####################### THE END ######################"
   ]
  },
  {
   "cell_type": "code",
   "execution_count": null,
   "metadata": {},
   "outputs": [],
   "source": []
  },
  {
   "cell_type": "code",
   "execution_count": null,
   "metadata": {},
   "outputs": [],
   "source": []
  },
  {
   "cell_type": "code",
   "execution_count": null,
   "metadata": {},
   "outputs": [],
   "source": []
  },
  {
   "cell_type": "code",
   "execution_count": null,
   "metadata": {},
   "outputs": [],
   "source": []
  },
  {
   "cell_type": "code",
   "execution_count": null,
   "metadata": {},
   "outputs": [],
   "source": []
  }
 ],
 "metadata": {
  "kernelspec": {
   "display_name": "Python 3",
   "language": "python",
   "name": "python3"
  },
  "language_info": {
   "codemirror_mode": {
    "name": "ipython",
    "version": 3
   },
   "file_extension": ".py",
   "mimetype": "text/x-python",
   "name": "python",
   "nbconvert_exporter": "python",
   "pygments_lexer": "ipython3",
   "version": "3.8.5"
  }
 },
 "nbformat": 4,
 "nbformat_minor": 4
}
