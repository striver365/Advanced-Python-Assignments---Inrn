{
 "cells": [
  {
   "cell_type": "code",
   "execution_count": null,
   "metadata": {},
   "outputs": [],
   "source": []
  },
  {
   "cell_type": "markdown",
   "metadata": {},
   "source": [
    "Question 1.\n",
    "\n",
    "Write a function that takes a list of lists and returns the value of all of the\n",
    "symbols in it, where each symbol adds or takes something from the total\n",
    "score. \n",
    "\n",
    "Symbol values:\n",
    "\n",
    "#= 5\n",
    "\n",
    "O = 3\n",
    "\n",
    "X = 1\n",
    "\n",
    "! = - 1\n",
    "\n",
    "!! = - 3\n",
    "\n",
    "!!! = - 5\n",
    "\n",
    "A list of lists containing 2 #s, a O, and a !!! would equal (0 + 5 + 5 + 3 - 5) 8.\n",
    "\n",
    "If the final score is negative, return 0 (e.g. 3 #s, 3 !!s, 2 !!!s and a X would be\n",
    "(0 + 5 + 5 + 5 - 3 - 3 - 3 - 5 - 5 + 1) -3, so return 0.\n",
    "\n",
    "Examples\n",
    "\n",
    "check_score([\n",
    "[&quot;#&quot;, &quot;!&quot;],\n",
    "[&quot;!!&quot;, &quot;X&quot;]\n",
    "]) ➞ 2\n",
    "\n",
    "check_score([\n",
    "[&quot;!!!&quot;, &quot;O&quot;, &quot;!&quot;],\n",
    "[&quot;X&quot;, &quot;#&quot;, &quot;!!!&quot;],\n",
    "[&quot;!!&quot;, &quot;X&quot;, &quot;O&quot;]\n",
    "]) ➞ 0"
   ]
  },
  {
   "cell_type": "code",
   "execution_count": null,
   "metadata": {},
   "outputs": [],
   "source": []
  },
  {
   "cell_type": "code",
   "execution_count": 69,
   "metadata": {},
   "outputs": [],
   "source": [
    "def check_score(a_lst):\n",
    "    b_lst = [j for i in a_lst for j in i]\n",
    "    collect = []\n",
    "\n",
    "    for i in b_lst:\n",
    "        if i == \"#\":\n",
    "            collect.append(5)\n",
    "        elif i == \"!\":\n",
    "            collect.append(-1)\n",
    "        elif i == \"!!\":\n",
    "            collect.append(-3)\n",
    "        elif i == \"X\":\n",
    "            collect.append(1)\n",
    "        elif i == \"O\":\n",
    "            collect.append(3)\n",
    "        elif i == \"!!!\":\n",
    "            collect.append(-5)\n",
    "    \n",
    "    if sum(collect) < 1:\n",
    "        print(\"The score is negative \")\n",
    "        return 0\n",
    "    return sum(collect)\n",
    "\n",
    "\n",
    "    \n"
   ]
  },
  {
   "cell_type": "code",
   "execution_count": 70,
   "metadata": {},
   "outputs": [
    {
     "name": "stdout",
     "output_type": "stream",
     "text": [
      "The score is negative \n"
     ]
    },
    {
     "data": {
      "text/plain": [
       "0"
      ]
     },
     "execution_count": 70,
     "metadata": {},
     "output_type": "execute_result"
    }
   ],
   "source": [
    "check_score([ [\"!!!\", \"O\", \"!\"], [\"X\", \"#\", \"!!!\"], [\"!!\", \"X\", \"O\"] ])"
   ]
  },
  {
   "cell_type": "code",
   "execution_count": null,
   "metadata": {},
   "outputs": [],
   "source": []
  },
  {
   "cell_type": "code",
   "execution_count": 391,
   "metadata": {},
   "outputs": [
    {
     "data": {
      "text/plain": [
       "2"
      ]
     },
     "execution_count": 391,
     "metadata": {},
     "output_type": "execute_result"
    }
   ],
   "source": [
    "check_score([ [\"#\", \"!\"], [\"!!\", \"X\"] ])"
   ]
  },
  {
   "cell_type": "code",
   "execution_count": null,
   "metadata": {},
   "outputs": [],
   "source": []
  },
  {
   "cell_type": "code",
   "execution_count": null,
   "metadata": {},
   "outputs": [],
   "source": []
  },
  {
   "cell_type": "code",
   "execution_count": null,
   "metadata": {},
   "outputs": [],
   "source": []
  },
  {
   "cell_type": "markdown",
   "metadata": {},
   "source": [
    "Question 2. \n",
    "\n",
    "Create a function that takes a variable number of arguments, each\n",
    "argument representing the number of items in a group, and returns the\n",
    "\n",
    "number of permutations (combinations) of items that you could get by taking\n",
    "one item from each group.\n",
    "\n",
    "Examples\n",
    "\n",
    "combinations(2, 3) ➞ 6\n",
    "\n",
    "combinations(3, 7, 4) ➞ 84\n",
    "\n",
    "combinations(2, 3, 4, 5) ➞ 120"
   ]
  },
  {
   "cell_type": "code",
   "execution_count": 94,
   "metadata": {},
   "outputs": [],
   "source": [
    "def combination():\n",
    "    tuple_int = ()\n",
    "    try:\n",
    "        range_of_integers = int(input(\"How many integers: \"))\n",
    "        lst_integers = []\n",
    "        for i in range(range_of_integers):\n",
    "            lst_ = int(input(\"Enter a number: \"))\n",
    "            lst_integers.append(lst_)\n",
    "    except Exception as err:\n",
    "        print(\"Only integers allowed\", err)\n",
    "    else:\n",
    "        tuple_int = tuple(lst_integers)\n",
    "    count = 1\n",
    "    for product in tuple_int:\n",
    "        count = count * product\n",
    "    return count\n",
    "        "
   ]
  },
  {
   "cell_type": "code",
   "execution_count": 96,
   "metadata": {},
   "outputs": [
    {
     "name": "stdout",
     "output_type": "stream",
     "text": [
      "How many integers: 4\n",
      "Enter a number: 2\n",
      "Enter a number: 3\n",
      "Enter a number: 4\n",
      "Enter a number: 5\n"
     ]
    },
    {
     "data": {
      "text/plain": [
       "120"
      ]
     },
     "execution_count": 96,
     "metadata": {},
     "output_type": "execute_result"
    }
   ],
   "source": [
    "combination()"
   ]
  },
  {
   "cell_type": "code",
   "execution_count": null,
   "metadata": {},
   "outputs": [],
   "source": []
  },
  {
   "cell_type": "code",
   "execution_count": 393,
   "metadata": {},
   "outputs": [
    {
     "name": "stdout",
     "output_type": "stream",
     "text": [
      "How many integers: 3\n",
      "Enter a number: 3\n",
      "Enter a number: 7\n",
      "Enter a number: 4\n"
     ]
    },
    {
     "data": {
      "text/plain": [
       "84"
      ]
     },
     "execution_count": 393,
     "metadata": {},
     "output_type": "execute_result"
    }
   ],
   "source": [
    "combination()"
   ]
  },
  {
   "cell_type": "code",
   "execution_count": null,
   "metadata": {},
   "outputs": [],
   "source": []
  },
  {
   "cell_type": "code",
   "execution_count": 394,
   "metadata": {},
   "outputs": [
    {
     "name": "stdout",
     "output_type": "stream",
     "text": [
      "How many integers: 2\n",
      "Enter a number: 2\n",
      "Enter a number: 3\n"
     ]
    },
    {
     "data": {
      "text/plain": [
       "6"
      ]
     },
     "execution_count": 394,
     "metadata": {},
     "output_type": "execute_result"
    }
   ],
   "source": [
    "combination()"
   ]
  },
  {
   "cell_type": "code",
   "execution_count": null,
   "metadata": {},
   "outputs": [],
   "source": []
  },
  {
   "cell_type": "code",
   "execution_count": null,
   "metadata": {},
   "outputs": [],
   "source": []
  },
  {
   "cell_type": "code",
   "execution_count": null,
   "metadata": {},
   "outputs": [],
   "source": []
  },
  {
   "cell_type": "markdown",
   "metadata": {},
   "source": [
    "Question 3. \n",
    "\n",
    "Create a function that takes a string as an argument and returns the Morse\n",
    "code equivalent.\n",
    "\n",
    "Examples\n",
    "\n",
    "encode_morse(&quot;EDABBIT CHALLENGE&quot;) ➞ &quot;. -.. .- -... -... .. - -.-. .... .- .-.. .-..\n",
    ". -. --. .&quot;\n",
    "\n",
    "encode_morse(&quot;HELP ME !&quot;) ➞ &quot;.... . .-.. .--. -- . -.-.--&quot;\n",
    "\n",
    "This dictionary can be used for coding:\n",
    "\n",
    "char_to_dots = {\n",
    "&#39;A&#39;: &#39;.-&#39;, &#39;B&#39;: &#39;-...&#39;, &#39;C&#39;: &#39;-.-.&#39;, &#39;D&#39;: &#39;-..&#39;, &#39;E&#39;: &#39;.&#39;, &#39;F&#39;: &#39;..-.&#39;,\n",
    "&#39;G&#39;: &#39;--.&#39;, &#39;H&#39;: &#39;....&#39;, &#39;I&#39;: &#39;..&#39;, &#39;J&#39;: &#39;.---&#39;, &#39;K&#39;: &#39;-.-&#39;, &#39;L&#39;: &#39;.-..&#39;,\n",
    "&#39;M&#39;: &#39;--&#39;, &#39;N&#39;: &#39;-.&#39;, &#39;O&#39;: &#39;---&#39;, &#39;P&#39;: &#39;.--.&#39;, &#39;Q&#39;: &#39;--.-&#39;, &#39;R&#39;: &#39;.-.&#39;,\n",
    "&#39;S&#39;: &#39;...&#39;, &#39;T&#39;: &#39;-&#39;, &#39;U&#39;: &#39;..-&#39;, &#39;V&#39;: &#39;...-&#39;, &#39;W&#39;: &#39;.--&#39;, &#39;X&#39;: &#39;-..-&#39;,\n",
    "&#39;Y&#39;: &#39;-.--&#39;, &#39;Z&#39;: &#39;--..&#39;, &#39; &#39;: &#39; &#39;, &#39;0&#39;: &#39;-----&#39;,\n",
    "&#39;1&#39;: &#39;.----&#39;, &#39;2&#39;: &#39;..---&#39;, &#39;3&#39;: &#39;...--&#39;, &#39;4&#39;: &#39;....-&#39;, &#39;5&#39;: &#39;.....&#39;,\n",
    "&#39;6&#39;: &#39;-....&#39;, &#39;7&#39;: &#39;--...&#39;, &#39;8&#39;: &#39;---..&#39;, &#39;9&#39;: &#39;----.&#39;,\n",
    "&#39;&amp;&#39;: &#39;.-...&#39;, &quot;&#39;&quot;: &#39;.----.&#39;, &#39;@&#39;: &#39;.--.-.&#39;, &#39;)&#39;: &#39;-.--.-&#39;, &#39;(&#39;: &#39;-.--.&#39;,\n",
    "&#39;:&#39;: &#39;---...&#39;, &#39;,&#39;: &#39;--..--&#39;, &#39;=&#39;: &#39;-...-&#39;, &#39;!&#39;: &#39;-.-.--&#39;, &#39;.&#39;: &#39;.-.-.-&#39;,\n",
    "&#39;-&#39;: &#39;-....-&#39;, &#39;+&#39;: &#39;.-.-.&#39;, &#39;&quot;&#39;: &#39;.-..-.&#39;, &#39;?&#39;: &#39;..--..&#39;, &#39;/&#39;: &#39;-..-.&#39;\n",
    "}"
   ]
  },
  {
   "cell_type": "code",
   "execution_count": null,
   "metadata": {},
   "outputs": [],
   "source": []
  },
  {
   "cell_type": "code",
   "execution_count": 387,
   "metadata": {},
   "outputs": [
    {
     "name": "stdout",
     "output_type": "stream",
     "text": [
      "enter something: help me!\n",
      ".... . .-.. .--.   -- . -.-.-- "
     ]
    }
   ],
   "source": [
    "key_val = {'A': '.-', 'B': '-...', 'C': '-.-.', 'D': '-..', 'E': '.', 'F': '..-.', 'G': '--.', 'H': '....', \n",
    "         'I': '..', 'J': '.---', 'K': '-.-', 'L': '.-..', 'M': '--', 'N': '-.', 'O': '---', 'P': '.--.', \n",
    "         'Q': '--.-', 'R': '.-.', 'S': '...', 'T': '-', 'U': '..-', 'V': '...-', 'W': '.--', 'X': '-..-', \n",
    "         'Y': '-.--', 'Z': '--..', ' ': ' ', \n",
    "         '0': '-----', '1': '.----', '2': '..---', '3': '...--', '4': '....-', '5': '.....', \n",
    "         '6': '-....', '7': '--...', '8': '---..', '9': '----.', \n",
    "         '&': '.-...', \"'\": '.----.', '@': '.--.-.', ')': '-.--.-', '(': '-.--.', ':': '---...', ',': '--..--', \n",
    "         '=': '-...-', '!': '-.-.--', '.': '.-.-.-', '-': '-....-', '+': '.-.-.', '\"': '.-..-.', '?': '..--..', '/': '-..-.'}     \n",
    "\n",
    "\n",
    "def encode_morse():\n",
    "    input_str = input(\"enter something: \").upper()\n",
    "    new_str = [str(i) for i in str(input_str)]\n",
    "\n",
    "    msg_= [key_val[char] for char in new_str]\n",
    "    print(' '.join(msg_) , end=\" \")\n",
    "    \n",
    "encode_morse()"
   ]
  },
  {
   "cell_type": "code",
   "execution_count": 388,
   "metadata": {},
   "outputs": [
    {
     "name": "stdout",
     "output_type": "stream",
     "text": [
      "enter something: edabbit challenge\n",
      ". -.. .- -... -... .. -   -.-. .... .- .-.. .-.. . -. --. . "
     ]
    }
   ],
   "source": [
    "encode_morse()"
   ]
  },
  {
   "cell_type": "code",
   "execution_count": null,
   "metadata": {},
   "outputs": [],
   "source": []
  },
  {
   "cell_type": "code",
   "execution_count": 389,
   "metadata": {},
   "outputs": [
    {
     "name": "stdout",
     "output_type": "stream",
     "text": [
      "enter something: 23 and me is not for me its @ scam !\n",
      "..--- ...--   .- -. -..   -- .   .. ...   -. --- -   ..-. --- .-.   -- .   .. - ...   .--.-.   ... -.-. .- --   -.-.-- "
     ]
    }
   ],
   "source": [
    "encode_morse()"
   ]
  },
  {
   "cell_type": "code",
   "execution_count": null,
   "metadata": {},
   "outputs": [],
   "source": []
  },
  {
   "cell_type": "code",
   "execution_count": null,
   "metadata": {},
   "outputs": [],
   "source": []
  },
  {
   "cell_type": "code",
   "execution_count": null,
   "metadata": {},
   "outputs": [],
   "source": []
  },
  {
   "cell_type": "markdown",
   "metadata": {},
   "source": [
    "Question 4. \n",
    "\n",
    "Write a function that takes a number and returns True if it&#39;s a prime; False\n",
    "otherwise. \n",
    "\n",
    "The number can be 2^64-1 (2 to the power of 63, not XOR). \n",
    "\n",
    "Withthe standard technique it would be O(2^64-1), which is much too large for the\n",
    "10 second time limit.\n",
    "\n",
    "Examples\n",
    "\n",
    "prime(7) ➞ True\n",
    "\n",
    "prime(56963) ➞ True\n",
    "\n",
    "prime(5151512515524) ➞ False"
   ]
  },
  {
   "cell_type": "code",
   "execution_count": null,
   "metadata": {},
   "outputs": [],
   "source": []
  },
  {
   "cell_type": "markdown",
   "metadata": {},
   "source": [
    "Take an example from below or type in one of your own"
   ]
  },
  {
   "cell_type": "code",
   "execution_count": 303,
   "metadata": {},
   "outputs": [
    {
     "data": {
      "text/plain": [
       "18446744073709551615"
      ]
     },
     "execution_count": 303,
     "metadata": {},
     "output_type": "execute_result"
    }
   ],
   "source": [
    "a = (2 ** 64) - 1\n",
    "int_a = int(a)\n",
    "int_a"
   ]
  },
  {
   "cell_type": "code",
   "execution_count": null,
   "metadata": {},
   "outputs": [],
   "source": []
  },
  {
   "cell_type": "code",
   "execution_count": 305,
   "metadata": {},
   "outputs": [
    {
     "data": {
      "text/plain": [
       "16423203268260658146231467800709255288"
      ]
     },
     "execution_count": 305,
     "metadata": {},
     "output_type": "execute_result"
    }
   ],
   "source": [
    "a_2 = (3**78) -1\n",
    "int_a_2 = int(a_2)\n",
    "int_a_2"
   ]
  },
  {
   "cell_type": "code",
   "execution_count": null,
   "metadata": {},
   "outputs": [],
   "source": []
  },
  {
   "cell_type": "code",
   "execution_count": 225,
   "metadata": {},
   "outputs": [
    {
     "data": {
      "text/plain": [
       "11579208923731619191890597130474433467209855068373235772619137767139578077773563658159842082076401446338897022428724027049601659258744690826545741680906228555345875660723463567287582723429861896226867130072503358900830935262253027694020728670709020101318613673354340515685859328"
      ]
     },
     "execution_count": 225,
     "metadata": {},
     "output_type": "execute_result"
    }
   ],
   "source": [
    "b = 1.157920892373162e+277\n",
    "int_b = int(b)\n",
    "int_b"
   ]
  },
  {
   "cell_type": "code",
   "execution_count": null,
   "metadata": {},
   "outputs": [],
   "source": []
  },
  {
   "cell_type": "code",
   "execution_count": 276,
   "metadata": {},
   "outputs": [
    {
     "data": {
      "text/plain": [
       "34028236692093848363660681372672077863466537581667740385363027819652004036775130795848720362582173716921363042708032804495868294432848844254492704043301130710820019832866622930944"
      ]
     },
     "execution_count": 276,
     "metadata": {},
     "output_type": "execute_result"
    }
   ],
   "source": [
    "c = 3.402823669209385e+178\n",
    "int_c = int(c)\n",
    "int_c"
   ]
  },
  {
   "cell_type": "code",
   "execution_count": null,
   "metadata": {},
   "outputs": [],
   "source": []
  },
  {
   "cell_type": "code",
   "execution_count": 297,
   "metadata": {},
   "outputs": [
    {
     "name": "stdout",
     "output_type": "stream",
     "text": [
      "Enter any bigger number: 34028236692093848363660681372672077863466537581667740385363027819652004036775130795848720362582173716921363042708032804495868294432848844254492704043301130710820019832866622930944\n",
      "False\n",
      "2.1878929138183594\n"
     ]
    }
   ],
   "source": [
    "import time\n",
    "# start_here = time.process_time()\n",
    "start_here = time.time()\n",
    "def check_prime_num():\n",
    "\n",
    "    num = int(input(\"Enter any bigger number: \"))\n",
    "\n",
    "    flag_ = 0\n",
    "    if num > 10:\n",
    "        new_num = [int(i) for i in str(num)]\n",
    "\n",
    "        if new_num[-1] == 0 or new_num[-1] == 2 or new_num[-1] == 4 or new_num[-1] == 6 or new_num[-1] == 8 or new_num[-1] == 5:\n",
    "            print(False)\n",
    "        elif sum(new_num) % 3 == 0:\n",
    "            print(False)\n",
    "        else:\n",
    "            for i in range(2, int(math.sqrt(num) + 1)):\n",
    "                if num % i == 0:\n",
    "                    flag_ = 1\n",
    "                    break\n",
    "                if flag_ == 0:\n",
    "                    print(True)\n",
    "                else:\n",
    "                    print(False)\n",
    "    else:  \n",
    "        if num == 1 or num == 4 or num == 6 or num == 8 or num == 9:\n",
    "            print(False)\n",
    "        elif num == 2 or num == 3 or num == 5 or num == 7:\n",
    "            print(True)\n",
    "            \n",
    "check_prime_num()\n",
    "    \n",
    "print(time.time() - start_here)\n",
    "    \n"
   ]
  },
  {
   "cell_type": "code",
   "execution_count": null,
   "metadata": {},
   "outputs": [],
   "source": []
  },
  {
   "cell_type": "code",
   "execution_count": 306,
   "metadata": {},
   "outputs": [
    {
     "name": "stdout",
     "output_type": "stream",
     "text": [
      "Enter any bigger number: 16423203268260658146231467800709255288\n",
      "False\n"
     ]
    },
    {
     "data": {
      "text/plain": [
       "1.0524516105651855"
      ]
     },
     "execution_count": 306,
     "metadata": {},
     "output_type": "execute_result"
    }
   ],
   "source": [
    "start_here = time.time()\n",
    "check_prime_num()\n",
    "seconds_ =time.time() - start_here\n",
    "seconds_"
   ]
  },
  {
   "cell_type": "code",
   "execution_count": null,
   "metadata": {},
   "outputs": [],
   "source": []
  },
  {
   "cell_type": "code",
   "execution_count": 304,
   "metadata": {},
   "outputs": [
    {
     "name": "stdout",
     "output_type": "stream",
     "text": [
      "Enter any bigger number: 18446744073709551615\n",
      "False\n"
     ]
    },
    {
     "data": {
      "text/plain": [
       "1.3879129886627197"
      ]
     },
     "execution_count": 304,
     "metadata": {},
     "output_type": "execute_result"
    }
   ],
   "source": [
    "start_here = time.time()\n",
    "check_prime_num()\n",
    "seconds_ =time.time() - start_here\n",
    "seconds_\n"
   ]
  },
  {
   "cell_type": "code",
   "execution_count": null,
   "metadata": {},
   "outputs": [],
   "source": []
  },
  {
   "cell_type": "code",
   "execution_count": 301,
   "metadata": {},
   "outputs": [
    {
     "name": "stdout",
     "output_type": "stream",
     "text": [
      "Enter any bigger number: 11579208923731619191890597130474433467209855068373235772619137767139578077773563658159842082076401446338897022428724027049601659258744690826545741680906228555345875660723463567287582723429861896226867130072503358900830935262253027694020728670709020101318613673354340515685859328\n",
      "False\n"
     ]
    },
    {
     "data": {
      "text/plain": [
       "1.4591610431671143"
      ]
     },
     "execution_count": 301,
     "metadata": {},
     "output_type": "execute_result"
    }
   ],
   "source": [
    "start_here = time.time()\n",
    "check_prime_num()\n",
    "seconds_ =time.time() - start_here\n",
    "seconds_\n",
    "# nano_sec = seconds_/1000000000\n",
    "# nano_sec"
   ]
  },
  {
   "cell_type": "code",
   "execution_count": null,
   "metadata": {},
   "outputs": [],
   "source": []
  },
  {
   "cell_type": "code",
   "execution_count": 302,
   "metadata": {},
   "outputs": [
    {
     "name": "stdout",
     "output_type": "stream",
     "text": [
      "Enter any bigger number: 1340780792994259828232521902777610444311612599477464204271843398044417828923148450560054731983202447617899643308657471108153111572947732745060891269994760913834009291145278222871025108699276025790464\n",
      "False\n"
     ]
    },
    {
     "data": {
      "text/plain": [
       "0.9691736698150635"
      ]
     },
     "execution_count": 302,
     "metadata": {},
     "output_type": "execute_result"
    }
   ],
   "source": [
    "start_here = time.time()\n",
    "check_prime_num()\n",
    "seconds_ =time.time() - start_here\n",
    "seconds_"
   ]
  },
  {
   "cell_type": "code",
   "execution_count": null,
   "metadata": {},
   "outputs": [],
   "source": []
  },
  {
   "cell_type": "code",
   "execution_count": null,
   "metadata": {},
   "outputs": [],
   "source": []
  },
  {
   "cell_type": "code",
   "execution_count": null,
   "metadata": {},
   "outputs": [],
   "source": []
  },
  {
   "cell_type": "markdown",
   "metadata": {},
   "source": [
    "Question 5. \n",
    "\n",
    "Create a function that converts a word to a bitstring and then to a boolean\n",
    "list based on the following criteria:\n",
    "\n",
    "1. Locate the position of the letter in the English alphabet (from 1 to 26).\n",
    "\n",
    "2. Odd positions will be represented as 1 and 0 otherwise.\n",
    "\n",
    "3. Convert the represented positions to boolean values, 1 for True and 0\n",
    "for False.\n",
    "\n",
    "4. Store the conversions into an array.\n",
    "\n",
    "Examples\n",
    "\n",
    "to_boolean_list(&quot;deep&quot;) ➞ [False, True, True, False]\n",
    "\n",
    "#deep converts to 0110\n",
    "\n",
    "#d is the 4th alphabet - 0\n",
    "\n",
    "#e is the 5th alphabet - 1\n",
    "\n",
    "#e is the 5th alphabet - 1\n",
    "\n",
    "#p is the 16th alphabet - 0\n",
    "\n",
    "to_boolean_list(&quot;loves&quot;) ➞ [False, True, False, True, True]\n",
    "\n",
    "to_boolean_list(&quot;tesh&quot;) ➞ [False, True, True, False]"
   ]
  },
  {
   "cell_type": "code",
   "execution_count": null,
   "metadata": {},
   "outputs": [],
   "source": []
  },
  {
   "cell_type": "code",
   "execution_count": 356,
   "metadata": {},
   "outputs": [],
   "source": [
    "import string\n",
    "\n",
    "def to_boolean_list():\n",
    "    val = dict()\n",
    "    for idx, letter in enumerate(string.ascii_lowercase):\n",
    "        val[letter] = idx + 1\n",
    "    try:\n",
    "        d = str(input(\"Enter a String Value: \"))\n",
    "        d_split = [char for char in d]\n",
    "\n",
    "    except Exception as err:\n",
    "        print(\"Invalid Only string Values. \")\n",
    "        \n",
    "    val_alp = []\n",
    "    bool_val = []\n",
    "    for i in d_split:\n",
    "        if val[i] % 2 == 0:\n",
    "            val_alp.append(False)\n",
    "            bool_val.append(0)\n",
    "        else:\n",
    "            val_alp.append(True)\n",
    "            bool_val.append(1)\n",
    "        \n",
    "    print(\"\\n\",bool_val)\n",
    "    return val_alp\n"
   ]
  },
  {
   "cell_type": "code",
   "execution_count": 357,
   "metadata": {},
   "outputs": [
    {
     "name": "stdout",
     "output_type": "stream",
     "text": [
      "{'a': 1, 'b': 2, 'c': 3, 'd': 4, 'e': 5, 'f': 6, 'g': 7, 'h': 8, 'i': 9, 'j': 10, 'k': 11, 'l': 12, 'm': 13, 'n': 14, 'o': 15, 'p': 16, 'q': 17, 'r': 18, 's': 19, 't': 20, 'u': 21, 'v': 22, 'w': 23, 'x': 24, 'y': 25, 'z': 26}\n",
      "Enter a String Value: deep\n",
      "\n",
      " [0, 1, 1, 0]\n"
     ]
    },
    {
     "data": {
      "text/plain": [
       "[False, True, True, False]"
      ]
     },
     "execution_count": 357,
     "metadata": {},
     "output_type": "execute_result"
    }
   ],
   "source": [
    "to_boolean_list()"
   ]
  },
  {
   "cell_type": "code",
   "execution_count": null,
   "metadata": {},
   "outputs": [],
   "source": []
  },
  {
   "cell_type": "code",
   "execution_count": 358,
   "metadata": {},
   "outputs": [
    {
     "name": "stdout",
     "output_type": "stream",
     "text": [
      "{'a': 1, 'b': 2, 'c': 3, 'd': 4, 'e': 5, 'f': 6, 'g': 7, 'h': 8, 'i': 9, 'j': 10, 'k': 11, 'l': 12, 'm': 13, 'n': 14, 'o': 15, 'p': 16, 'q': 17, 'r': 18, 's': 19, 't': 20, 'u': 21, 'v': 22, 'w': 23, 'x': 24, 'y': 25, 'z': 26}\n",
      "Enter a String Value: loves\n",
      "\n",
      " [0, 1, 0, 1, 1]\n"
     ]
    },
    {
     "data": {
      "text/plain": [
       "[False, True, False, True, True]"
      ]
     },
     "execution_count": 358,
     "metadata": {},
     "output_type": "execute_result"
    }
   ],
   "source": [
    "to_boolean_list()"
   ]
  },
  {
   "cell_type": "code",
   "execution_count": null,
   "metadata": {},
   "outputs": [],
   "source": []
  },
  {
   "cell_type": "code",
   "execution_count": 359,
   "metadata": {},
   "outputs": [
    {
     "name": "stdout",
     "output_type": "stream",
     "text": [
      "{'a': 1, 'b': 2, 'c': 3, 'd': 4, 'e': 5, 'f': 6, 'g': 7, 'h': 8, 'i': 9, 'j': 10, 'k': 11, 'l': 12, 'm': 13, 'n': 14, 'o': 15, 'p': 16, 'q': 17, 'r': 18, 's': 19, 't': 20, 'u': 21, 'v': 22, 'w': 23, 'x': 24, 'y': 25, 'z': 26}\n",
      "Enter a String Value: tesh\n",
      "\n",
      " [0, 1, 1, 0]\n"
     ]
    },
    {
     "data": {
      "text/plain": [
       "[False, True, True, False]"
      ]
     },
     "execution_count": 359,
     "metadata": {},
     "output_type": "execute_result"
    }
   ],
   "source": [
    "to_boolean_list()"
   ]
  },
  {
   "cell_type": "code",
   "execution_count": null,
   "metadata": {},
   "outputs": [],
   "source": []
  },
  {
   "cell_type": "code",
   "execution_count": null,
   "metadata": {},
   "outputs": [],
   "source": []
  },
  {
   "cell_type": "code",
   "execution_count": null,
   "metadata": {},
   "outputs": [],
   "source": []
  },
  {
   "cell_type": "code",
   "execution_count": null,
   "metadata": {},
   "outputs": [],
   "source": []
  },
  {
   "cell_type": "code",
   "execution_count": null,
   "metadata": {},
   "outputs": [],
   "source": []
  },
  {
   "cell_type": "code",
   "execution_count": null,
   "metadata": {},
   "outputs": [],
   "source": []
  },
  {
   "cell_type": "code",
   "execution_count": null,
   "metadata": {},
   "outputs": [],
   "source": []
  },
  {
   "cell_type": "code",
   "execution_count": null,
   "metadata": {},
   "outputs": [],
   "source": []
  },
  {
   "cell_type": "code",
   "execution_count": null,
   "metadata": {},
   "outputs": [],
   "source": []
  },
  {
   "cell_type": "code",
   "execution_count": null,
   "metadata": {},
   "outputs": [],
   "source": []
  },
  {
   "cell_type": "code",
   "execution_count": null,
   "metadata": {},
   "outputs": [],
   "source": []
  },
  {
   "cell_type": "code",
   "execution_count": null,
   "metadata": {},
   "outputs": [],
   "source": []
  },
  {
   "cell_type": "code",
   "execution_count": null,
   "metadata": {},
   "outputs": [],
   "source": []
  }
 ],
 "metadata": {
  "kernelspec": {
   "display_name": "Python 3",
   "language": "python",
   "name": "python3"
  },
  "language_info": {
   "codemirror_mode": {
    "name": "ipython",
    "version": 3
   },
   "file_extension": ".py",
   "mimetype": "text/x-python",
   "name": "python",
   "nbconvert_exporter": "python",
   "pygments_lexer": "ipython3",
   "version": "3.8.5"
  }
 },
 "nbformat": 4,
 "nbformat_minor": 4
}
