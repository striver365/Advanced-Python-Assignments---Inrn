{
 "cells": [
  {
   "cell_type": "code",
   "execution_count": null,
   "metadata": {},
   "outputs": [],
   "source": []
  },
  {
   "cell_type": "markdown",
   "metadata": {},
   "source": [
    "Q1.\n",
    "\n",
    "What is the concept of a metaclass?"
   ]
  },
  {
   "cell_type": "markdown",
   "metadata": {},
   "source": [
    "A metaclass is a class used to create a class. Normal new-style classes are instances\n",
    "of the type class by default. \n",
    "\n",
    "Metaclasses are usually subclasses of the type class,\n",
    "which redefines class creation protocol methods in order to customize the class\n",
    "creation call issued at the end of a class statement; they typically redefine the\n",
    "methods __  new  /__ and __   init  /__ to tap into the class creation protocol.\n",
    "\n",
    "Metaclasses\n",
    "can also be coded other ways—as simple functions, for example—but they are\n",
    "always responsible for making and returning an object for the new class. \n",
    "\n",
    "Metaclasses may have methods and data to provide behavior for their classes too—and\n",
    "constitute a secondary pathway for inheritance search—but their attributes are\n",
    "accessible only to their class instances, not to their instance’s instances."
   ]
  },
  {
   "cell_type": "code",
   "execution_count": null,
   "metadata": {},
   "outputs": [],
   "source": []
  },
  {
   "cell_type": "code",
   "execution_count": null,
   "metadata": {},
   "outputs": [],
   "source": []
  },
  {
   "cell_type": "code",
   "execution_count": null,
   "metadata": {},
   "outputs": [],
   "source": []
  },
  {
   "cell_type": "markdown",
   "metadata": {},
   "source": [
    "Q2.\n",
    "\n",
    "What is the best way to declare a class&#39;s metaclass?"
   ]
  },
  {
   "cell_type": "markdown",
   "metadata": {},
   "source": [
    "Answer:\n",
    "\n",
    "In Python 3.X, use a keyword argument in the class header line: class C(meta\n",
    "class=M). In Python 2.X, use a class attribute instead: __  metaclass  /__ = M. \n",
    "\n",
    "To create your own metaclass in Python you really just want to subclass type.\n",
    "\n",
    "A metaclass is most commonly used as a class-factory. When you create an object by calling the class, Python creates a new class (when it executes the 'class' statement) by calling the metaclass. Combined with the normal __  init  /__ and __  new  /__ methods, metaclasses therefore allow you to do 'extra things' when creating a class, like registering the new class with some registry or replace the class with something else entirely.\n",
    "\n",
    "When the class statement is executed, Python first executes the body of the class statement as a normal block of code. The resulting namespace (a dict) holds the attributes of the class-to-be. The metaclass is determined by looking at the baseclasses of the class-to-be (metaclasses are inherited), at the __  metaclass  /__ attribute of the class-to-be (if any) or the __  metaclass  /__ global variable. The metaclass is then called with the name, bases and attributes of the class to instantiate it."
   ]
  },
  {
   "cell_type": "code",
   "execution_count": null,
   "metadata": {},
   "outputs": [],
   "source": []
  },
  {
   "cell_type": "code",
   "execution_count": null,
   "metadata": {},
   "outputs": [],
   "source": []
  },
  {
   "cell_type": "code",
   "execution_count": null,
   "metadata": {},
   "outputs": [],
   "source": []
  },
  {
   "cell_type": "markdown",
   "metadata": {},
   "source": [
    "Q3. \n",
    "\n",
    "How do class decorators overlap with metaclasses for handling classes?"
   ]
  },
  {
   "cell_type": "markdown",
   "metadata": {},
   "source": [
    "Answer:\n",
    "\n",
    "Decorators and Metaclass both are automatically triggered at the end of a class statement, class\n",
    "decorators and metaclasses can both be used to manage classes. \n",
    "\n",
    "\n",
    "Decorators rebind\n",
    "a class name to a callable’s result and metaclasses route class creation through a\n",
    "callable, but both hooks can be used for similar purposes. \n",
    "\n",
    "\n",
    "To manage classes,\n",
    "decorators simply augment and return the original class objects. Metaclasses augment a class after they create it. Decorators may have a slight disadvantage in this\n",
    "role if a new class must be defined, because the original class has already been\n",
    "created."
   ]
  },
  {
   "cell_type": "code",
   "execution_count": null,
   "metadata": {},
   "outputs": [],
   "source": []
  },
  {
   "cell_type": "code",
   "execution_count": null,
   "metadata": {},
   "outputs": [],
   "source": []
  },
  {
   "cell_type": "code",
   "execution_count": null,
   "metadata": {},
   "outputs": [],
   "source": []
  },
  {
   "cell_type": "markdown",
   "metadata": {},
   "source": [
    "Q4.\n",
    "\n",
    "How do class decorators overlap with metaclasses for handling instances?"
   ]
  },
  {
   "cell_type": "markdown",
   "metadata": {},
   "source": [
    "Answer:\n",
    "\n",
    "Decorators and Metaclass both are automatically triggered at the end of a class statement, class decorators and metaclasses can both be used to manage classes.\n",
    "\n",
    "Decorators rebind a class name to a callable’s result and metaclasses route class creation through a callable, but both hooks can be used for similar purposes.\n",
    "\n",
    "To manage classes, decorators simply augment and return the original class objects. Metaclasses augment a class after they create it. Decorators may have a slight disadvantage in this role if a new class must be defined, because the original class has already been created."
   ]
  },
  {
   "cell_type": "code",
   "execution_count": null,
   "metadata": {},
   "outputs": [],
   "source": []
  },
  {
   "cell_type": "code",
   "execution_count": null,
   "metadata": {},
   "outputs": [],
   "source": []
  },
  {
   "cell_type": "code",
   "execution_count": null,
   "metadata": {},
   "outputs": [],
   "source": []
  },
  {
   "cell_type": "code",
   "execution_count": null,
   "metadata": {},
   "outputs": [],
   "source": []
  },
  {
   "cell_type": "code",
   "execution_count": null,
   "metadata": {},
   "outputs": [],
   "source": []
  },
  {
   "cell_type": "code",
   "execution_count": null,
   "metadata": {},
   "outputs": [],
   "source": []
  },
  {
   "cell_type": "code",
   "execution_count": null,
   "metadata": {},
   "outputs": [],
   "source": []
  },
  {
   "cell_type": "code",
   "execution_count": null,
   "metadata": {},
   "outputs": [],
   "source": []
  }
 ],
 "metadata": {
  "kernelspec": {
   "display_name": "Python 3",
   "language": "python",
   "name": "python3"
  },
  "language_info": {
   "codemirror_mode": {
    "name": "ipython",
    "version": 3
   },
   "file_extension": ".py",
   "mimetype": "text/x-python",
   "name": "python",
   "nbconvert_exporter": "python",
   "pygments_lexer": "ipython3",
   "version": "3.8.5"
  }
 },
 "nbformat": 4,
 "nbformat_minor": 4
}
