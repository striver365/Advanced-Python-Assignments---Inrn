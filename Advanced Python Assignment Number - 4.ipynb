{
 "cells": [
  {
   "cell_type": "code",
   "execution_count": null,
   "metadata": {},
   "outputs": [],
   "source": []
  },
  {
   "cell_type": "markdown",
   "metadata": {},
   "source": [
    "Question 1.\n",
    "\n",
    "Which two operator overloading methods can you use in your classes to support iteration?"
   ]
  },
  {
   "cell_type": "markdown",
   "metadata": {},
   "source": [
    "Classes support iteration through inheritance or by defining 2 such methods namely:\n",
    "\n",
    "(a) __ getitem __\n",
    "\n",
    "(b) __ iter __\n",
    "\n",
    "In terms of iteration context, Python uses __ iter __() function which returns an object, which in turn yields value in iteration cycle through the __ get __() method.\n",
    "\n",
    "If the program has not assigned any __ iter __() method then Python by default uses the __ getitem __() method, which is an indexing method. Using this method along with yield as a return statement creates the __ next __() method automatically."
   ]
  },
  {
   "cell_type": "code",
   "execution_count": null,
   "metadata": {},
   "outputs": [],
   "source": []
  },
  {
   "cell_type": "code",
   "execution_count": 1,
   "metadata": {},
   "outputs": [
    {
     "name": "stdout",
     "output_type": "stream",
     "text": [
      "<class 'int'> 5\n",
      "<class 'slice'> slice(0, 10, 1)\n",
      "<class 'str'> Ajay Mathur\n",
      "<class 'tuple'> (1, 'Random String', 36.5)\n",
      "<class 'object'> <object object at 0x0000019B2F9C9830>\n"
     ]
    }
   ],
   "source": [
    "class TestgetItem():\n",
    "    def __getitem__(self, datatype):\n",
    "        print (type(datatype), datatype)\n",
    "\n",
    "test = TestgetItem()\n",
    "test[5]\n",
    "test[0: 10: 1]\n",
    "test[\"Ajay Mathur\"]\n",
    "test[1, \"Random String\", 36.5]\n",
    "test[object()]"
   ]
  },
  {
   "cell_type": "code",
   "execution_count": 5,
   "metadata": {},
   "outputs": [
    {
     "name": "stdout",
     "output_type": "stream",
     "text": [
      "1\n",
      "2\n",
      "3\n",
      "4\n",
      "5\n",
      "Iteration over\n"
     ]
    }
   ],
   "source": [
    "class Counter:\n",
    "    def __init__(self, start, end):\n",
    "        self.num = start\n",
    "        self.end = end\n",
    "        \n",
    "    def __iter__(self):\n",
    "        return self\n",
    "\n",
    "    def __next__(self):\n",
    "        if self.num > self.end:\n",
    "            raise StopIteration\n",
    "        else:\n",
    "            self.num += 1\n",
    "            return self.num - 1\n",
    "        \n",
    "count1 = Counter(1, 5)\n",
    "obj = iter(count1)\n",
    "\n",
    "try:\n",
    "    while True: \n",
    "            print (next(obj))\n",
    "except StopIteration as err:\n",
    "    print(\"Iteration over\")"
   ]
  },
  {
   "cell_type": "code",
   "execution_count": null,
   "metadata": {},
   "outputs": [],
   "source": []
  },
  {
   "cell_type": "code",
   "execution_count": null,
   "metadata": {},
   "outputs": [],
   "source": []
  },
  {
   "cell_type": "code",
   "execution_count": null,
   "metadata": {},
   "outputs": [],
   "source": []
  },
  {
   "cell_type": "markdown",
   "metadata": {},
   "source": [
    "Question 2.\n",
    "\n",
    "In what contexts do the two operator overloading methods manage printing?"
   ]
  },
  {
   "cell_type": "markdown",
   "metadata": {},
   "source": [
    "In order to display messages through instance objects that are part of the Constructor code in Super-Class or Sub-Class we can use __ str __() and __ repr __()\n",
    "\n",
    "The former is called by the print and str built-in functions; the latter is called by print and str if there is no __ str __, and always by the repr built-in, interactive echoes, and nested appearances. That is, __ repr __ is used everywhere, except by print and str when a __ str __ is defined. A __ str __ is usually used for user-friendly displays; __ repr __ gives extra details or the object’s as-code form."
   ]
  },
  {
   "cell_type": "code",
   "execution_count": 14,
   "metadata": {},
   "outputs": [
    {
     "name": "stdout",
     "output_type": "stream",
     "text": [
      "Main Class (random_number = 12345 ,random_word = Hello)\n",
      "Main Class (random_number = 12345 ,random_word = Hello)\n"
     ]
    }
   ],
   "source": [
    "class Test1:\n",
    "    def __init__(self, digit, word ):\n",
    "        self.digit = digit\n",
    "        self.word = word\n",
    "    def __str__ (self):\n",
    "        return 'Main Class (random_number = ' + str(self.digit) + ' ,random_word = ' + self.word + ')'  ## because only str can concatenate with str\n",
    "myObject = Test1(12345, \"Hello\")\n",
    "print(myObject.__str__())\n",
    "print(str(myObject))"
   ]
  },
  {
   "cell_type": "code",
   "execution_count": null,
   "metadata": {},
   "outputs": [],
   "source": []
  },
  {
   "cell_type": "code",
   "execution_count": 15,
   "metadata": {},
   "outputs": [
    {
     "data": {
      "text/plain": [
       "'Person(Ajay,20)'"
      ]
     },
     "execution_count": 15,
     "metadata": {},
     "output_type": "execute_result"
    }
   ],
   "source": [
    "class Person:\n",
    "    def __init__(self, name, age):\n",
    "        self.name = name\n",
    "        self.age = age\n",
    "\n",
    "    def __repr__(self):\n",
    "        rep = 'Person(' + self.name + ',' + str(self.age) + ')'\n",
    "        return rep\n",
    "\n",
    "\n",
    "person = Person(\"Ajay\", 20)\n",
    "person.__repr__()"
   ]
  },
  {
   "cell_type": "code",
   "execution_count": null,
   "metadata": {},
   "outputs": [],
   "source": []
  },
  {
   "cell_type": "code",
   "execution_count": null,
   "metadata": {},
   "outputs": [],
   "source": []
  },
  {
   "cell_type": "code",
   "execution_count": null,
   "metadata": {},
   "outputs": [],
   "source": []
  },
  {
   "cell_type": "markdown",
   "metadata": {},
   "source": [
    "Question 3. \n",
    "\n",
    "In a class, how do you intercept slice operations?"
   ]
  },
  {
   "cell_type": "markdown",
   "metadata": {},
   "source": [
    "Slicing is caught by the __getitem__ indexing method: it is called with a slice object, instead of a simple integer index, and slice objects may be passed on or inspected as needed."
   ]
  },
  {
   "cell_type": "code",
   "execution_count": 20,
   "metadata": {},
   "outputs": [
    {
     "data": {
      "text/plain": [
       "'abcde'"
      ]
     },
     "execution_count": 20,
     "metadata": {},
     "output_type": "execute_result"
    }
   ],
   "source": [
    "slicing_alphabets = \"abcdefghi\".__getitem__(slice(0, 5, 1)) ## from a to e is 5 letters\n",
    "\n",
    "slicing_alphabets"
   ]
  },
  {
   "cell_type": "code",
   "execution_count": null,
   "metadata": {},
   "outputs": [],
   "source": []
  },
  {
   "cell_type": "code",
   "execution_count": null,
   "metadata": {},
   "outputs": [],
   "source": []
  },
  {
   "cell_type": "code",
   "execution_count": null,
   "metadata": {},
   "outputs": [],
   "source": []
  },
  {
   "cell_type": "markdown",
   "metadata": {},
   "source": [
    "Question 4.\n",
    "\n",
    "In a class, how do you capture in-place addition?"
   ]
  },
  {
   "cell_type": "markdown",
   "metadata": {},
   "source": [
    "In-place addition tries __iadd__ first, and __add__ with an assignment second. The same pattern holds true for all binary operators. The __radd__ method is also available for right-side addition."
   ]
  },
  {
   "cell_type": "code",
   "execution_count": null,
   "metadata": {},
   "outputs": [],
   "source": []
  },
  {
   "cell_type": "code",
   "execution_count": null,
   "metadata": {},
   "outputs": [],
   "source": []
  },
  {
   "cell_type": "code",
   "execution_count": null,
   "metadata": {},
   "outputs": [],
   "source": []
  },
  {
   "cell_type": "markdown",
   "metadata": {},
   "source": [
    "Question 5. \n",
    "\n",
    "When is it appropriate to use operator overloading?"
   ]
  },
  {
   "cell_type": "markdown",
   "metadata": {},
   "source": [
    "Operator Overloading means giving extended meaning beyond their predefined operational meaning. For example operator + is used to add two integers as well as join two strings and merge two lists. It is achievable because ‘+’ operator is overloaded by int class and str class. You might have noticed that the same built-in operator or function shows different behavior for objects of different classes, this is called Operator Overloading. \n",
    "\n",
    "\n",
    "When a class naturally matches, or needs to emulate, a built-in type’s interfaces.  When a class is matched or requires to be emulated, a built-in type's interface is required, that is when operator overloading is appropriate to be used. \n",
    "\n",
    "For example, when importing collections it might imitiate sequences or it may even map interfaces. You generally shouldn’t implement expression operators if they don’t naturally map to your objects naturally and logically, though—use normally named methods instead."
   ]
  },
  {
   "cell_type": "code",
   "execution_count": null,
   "metadata": {},
   "outputs": [],
   "source": []
  },
  {
   "cell_type": "code",
   "execution_count": null,
   "metadata": {},
   "outputs": [],
   "source": []
  },
  {
   "cell_type": "code",
   "execution_count": null,
   "metadata": {},
   "outputs": [],
   "source": []
  },
  {
   "cell_type": "code",
   "execution_count": null,
   "metadata": {},
   "outputs": [],
   "source": []
  },
  {
   "cell_type": "code",
   "execution_count": null,
   "metadata": {},
   "outputs": [],
   "source": []
  },
  {
   "cell_type": "markdown",
   "metadata": {},
   "source": [
    "                                        ################## THE END ########################"
   ]
  },
  {
   "cell_type": "code",
   "execution_count": null,
   "metadata": {},
   "outputs": [],
   "source": []
  },
  {
   "cell_type": "code",
   "execution_count": null,
   "metadata": {},
   "outputs": [],
   "source": []
  },
  {
   "cell_type": "code",
   "execution_count": null,
   "metadata": {},
   "outputs": [],
   "source": []
  },
  {
   "cell_type": "code",
   "execution_count": null,
   "metadata": {},
   "outputs": [],
   "source": []
  },
  {
   "cell_type": "code",
   "execution_count": null,
   "metadata": {},
   "outputs": [],
   "source": []
  },
  {
   "cell_type": "code",
   "execution_count": null,
   "metadata": {},
   "outputs": [],
   "source": []
  }
 ],
 "metadata": {
  "kernelspec": {
   "display_name": "Python 3",
   "language": "python",
   "name": "python3"
  },
  "language_info": {
   "codemirror_mode": {
    "name": "ipython",
    "version": 3
   },
   "file_extension": ".py",
   "mimetype": "text/x-python",
   "name": "python",
   "nbconvert_exporter": "python",
   "pygments_lexer": "ipython3",
   "version": "3.8.5"
  }
 },
 "nbformat": 4,
 "nbformat_minor": 4
}
