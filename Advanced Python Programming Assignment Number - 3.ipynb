{
 "cells": [
  {
   "cell_type": "code",
   "execution_count": null,
   "metadata": {},
   "outputs": [],
   "source": []
  },
  {
   "cell_type": "markdown",
   "metadata": {},
   "source": [
    "Question 1. \n",
    "\n",
    "Create a function to perform basic arithmetic operations that includes\n",
    "addition, subtraction, multiplication and division on a string number \n",
    "\n",
    "(e.g. &quot;12 +\n",
    "24&quot; or &quot;23 - 21&quot; or &quot;12 // 12&quot; or &quot;12 * 21&quot;).\n",
    "\n",
    "\n",
    "Here, we have 1 followed by a space, operator followed by another space\n",
    "and 2. For the challenge, we are going to have only two numbers between 1\n",
    "valid operator.\n",
    "\n",
    "The return value should be a number.\n",
    "eval() is not allowed. \n",
    "\n",
    "In case of division, whenever the second number equals\n",
    "&quot;0&quot; return -1.\n",
    "\n",
    "For example:\n",
    "\n",
    "&quot;15 // 0&quot; ➞ -1\n",
    "\n",
    "Examples\n",
    "\n",
    "arithmetic_operation(&quot;12 + 12&quot;) ➞ 24 // 12 + 12 = 24 \n",
    "\n",
    "arithmetic_operation(&quot;12 - 12&quot;) ➞ 24 // 12 - 12 = 0\n",
    "\n",
    "arithmetic_operation(&quot;12 * 12&quot;) ➞ 144 // 12 * 12 = 144\n",
    "\n",
    "arithmetic_operation(&quot;12 // 0&quot;) ➞ -1 // 12 / 0 = -1"
   ]
  },
  {
   "cell_type": "code",
   "execution_count": null,
   "metadata": {},
   "outputs": [],
   "source": []
  },
  {
   "cell_type": "code",
   "execution_count": null,
   "metadata": {},
   "outputs": [],
   "source": []
  },
  {
   "cell_type": "code",
   "execution_count": 502,
   "metadata": {},
   "outputs": [],
   "source": [
    "import math\n",
    "import numpy as np\n",
    "import re\n",
    "\n",
    "def arithmetic_operation(a):\n",
    "#     a = \"12 - 12\"\n",
    "    pattern = re.compile(r'\\s+')\n",
    "    print(\"Original String Value: \", a)\n",
    "\n",
    "    for i in a:\n",
    "        if i == \"+\" or i == \"*\" or i == \"-\" or i == \"/\" or i == \" \":\n",
    "            a_2 = a.replace(\" \",\"\")\n",
    "#             a_2 = re.sub(pattern, \"\", a)\n",
    "            part_1 = a.split(i,1)[0]\n",
    "            part_2 = a.split(i, 1)[1]\n",
    "        \n",
    "        \n",
    "\n",
    "    str_lst = []\n",
    "    str_lst.append(part_1)\n",
    "    str_lst.append(part_2[1:])\n",
    "\n",
    "    str_lst = [j.replace(\" \",\"\") for j in str_lst]\n",
    "    int_a_3 = list(map(int, str_lst))\n",
    "\n",
    "    \n",
    "    for k in a:\n",
    "        \n",
    "        if k == \"+\":\n",
    "            print(sum(int_a_3))\n",
    "        elif k == \"*\":\n",
    "            print(math.prod(int_a_3))\n",
    "        elif k == \"-\":\n",
    "            print(np.subtract(int_a_3[0], int_a_3[1]))\n",
    "        elif k == \"/\":\n",
    "            try:\n",
    "                if int_a_3[1] == 0:\n",
    "                    print(-1)\n",
    "                    break\n",
    "            except ZeroDivisionError as err:\n",
    "                pass\n",
    "            else:\n",
    "                print(int_a_3[0] /int_a_3[1])\n",
    "        elif k == \"//\":\n",
    "            print(int_a_3[0] //int_a_3[1])\n",
    "    \n",
    "        \n",
    "\n"
   ]
  },
  {
   "cell_type": "code",
   "execution_count": 503,
   "metadata": {},
   "outputs": [
    {
     "name": "stdout",
     "output_type": "stream",
     "text": [
      "Original String Value:  12 + 12\n",
      "24\n"
     ]
    }
   ],
   "source": [
    "arithmetic_operation(\"12 + 12\")"
   ]
  },
  {
   "cell_type": "code",
   "execution_count": 504,
   "metadata": {},
   "outputs": [
    {
     "name": "stdout",
     "output_type": "stream",
     "text": [
      "Original String Value:  12 - 12\n",
      "0\n"
     ]
    }
   ],
   "source": [
    "arithmetic_operation(\"12 - 12\")"
   ]
  },
  {
   "cell_type": "code",
   "execution_count": 505,
   "metadata": {},
   "outputs": [
    {
     "name": "stdout",
     "output_type": "stream",
     "text": [
      "Original String Value:  12 * 12\n",
      "144\n"
     ]
    }
   ],
   "source": [
    "arithmetic_operation(\"12 * 12\")"
   ]
  },
  {
   "cell_type": "code",
   "execution_count": 510,
   "metadata": {},
   "outputs": [
    {
     "name": "stdout",
     "output_type": "stream",
     "text": [
      "Original String Value:  43 * 0\n",
      "0\n"
     ]
    }
   ],
   "source": [
    "arithmetic_operation(\"43 * 0\")"
   ]
  },
  {
   "cell_type": "code",
   "execution_count": 506,
   "metadata": {},
   "outputs": [
    {
     "name": "stdout",
     "output_type": "stream",
     "text": [
      "Original String Value:  24 + 0\n",
      "24\n"
     ]
    }
   ],
   "source": [
    "arithmetic_operation(\"24 + 0\")"
   ]
  },
  {
   "cell_type": "code",
   "execution_count": 507,
   "metadata": {},
   "outputs": [
    {
     "name": "stdout",
     "output_type": "stream",
     "text": [
      "Original String Value:  12 / 2\n",
      "6.0\n"
     ]
    }
   ],
   "source": [
    "arithmetic_operation(\"12 / 2\")"
   ]
  },
  {
   "cell_type": "code",
   "execution_count": 508,
   "metadata": {},
   "outputs": [
    {
     "name": "stdout",
     "output_type": "stream",
     "text": [
      "Original String Value:  88965+5566\n",
      "89531\n"
     ]
    }
   ],
   "source": [
    "arithmetic_operation(\"88965+5566\")"
   ]
  },
  {
   "cell_type": "code",
   "execution_count": 509,
   "metadata": {},
   "outputs": [
    {
     "name": "stdout",
     "output_type": "stream",
     "text": [
      "Original String Value:  12 / 0\n",
      "-1\n"
     ]
    }
   ],
   "source": [
    "arithmetic_operation(\"12 / 0\")"
   ]
  },
  {
   "cell_type": "code",
   "execution_count": null,
   "metadata": {},
   "outputs": [],
   "source": []
  },
  {
   "cell_type": "code",
   "execution_count": null,
   "metadata": {},
   "outputs": [],
   "source": []
  },
  {
   "cell_type": "code",
   "execution_count": null,
   "metadata": {},
   "outputs": [],
   "source": []
  },
  {
   "cell_type": "markdown",
   "metadata": {},
   "source": [
    "Question 2. \n",
    "\n",
    "Write a function that takes the coordinates of three points in the form of a\n",
    "2d array and returns the perimeter of the triangle. \n",
    "\n",
    "The given points are the\n",
    "vertices of a triangle on a two-dimensional plane.\n",
    "\n",
    "\n",
    "Examples\n",
    "\n",
    "perimeter( [ [15, 7], [5, 22], [11, 1] ] ) ➞ 47.08\n",
    "\n",
    "perimeter( [ [0, 0], [0, 1], [1, 0] ] ) ➞ 3.42\n",
    "\n",
    "perimeter( [ [-10, -10], [10, 10 ], [-10, 10] ] ) ➞ 68.28"
   ]
  },
  {
   "cell_type": "code",
   "execution_count": null,
   "metadata": {},
   "outputs": [],
   "source": []
  },
  {
   "cell_type": "code",
   "execution_count": 616,
   "metadata": {},
   "outputs": [],
   "source": []
  },
  {
   "cell_type": "code",
   "execution_count": 672,
   "metadata": {},
   "outputs": [],
   "source": [
    "import math\n",
    "def perimeter(one_lst):\n",
    "\n",
    "#     one_lst = [[15, 7], [5, 22], [11, 1]]\n",
    "    A = one_lst [0]\n",
    "    B = one_lst [1]\n",
    "    C = one_lst [2]\n",
    "    print(A, B, C)\n",
    "\n",
    "    x1 = A[0]\n",
    "    x2 = B[0]\n",
    "    x3 = C[0]\n",
    "\n",
    "    y1 = A[1]\n",
    "    y2 = B[1]\n",
    "    y3 = C[1]\n",
    "\n",
    "\n",
    "    AB = ((x2 - x1)**2) + ((y2 - y1)**2)\n",
    "    sqrt_AB = math.sqrt(AB)\n",
    "    BC = ((x3 - x2)**2) + ((y3 - y2)**2)\n",
    "    sqrt_BC = math.sqrt(BC)\n",
    "    AC = ((x3 - x1)**2) + ((y3 - y1)**2)\n",
    "    sqrt_AC = math.sqrt(AC)\n",
    "\n",
    "    fnd_perimeter = sqrt_AB + sqrt_BC + sqrt_AC\n",
    "    return round(fnd_perimeter, 2)\n"
   ]
  },
  {
   "cell_type": "code",
   "execution_count": 673,
   "metadata": {},
   "outputs": [
    {
     "name": "stdout",
     "output_type": "stream",
     "text": [
      "[15, 7] [5, 22] [11, 1]\n"
     ]
    },
    {
     "data": {
      "text/plain": [
       "47.08"
      ]
     },
     "execution_count": 673,
     "metadata": {},
     "output_type": "execute_result"
    }
   ],
   "source": [
    "perimeter( [ [15, 7], [5, 22], [11, 1] ] )"
   ]
  },
  {
   "cell_type": "code",
   "execution_count": 674,
   "metadata": {},
   "outputs": [
    {
     "name": "stdout",
     "output_type": "stream",
     "text": [
      "[0, 0] [0, 1] [1, 0]\n"
     ]
    },
    {
     "data": {
      "text/plain": [
       "3.41"
      ]
     },
     "execution_count": 674,
     "metadata": {},
     "output_type": "execute_result"
    }
   ],
   "source": [
    "perimeter( [ [0, 0], [0, 1], [1, 0] ] )"
   ]
  },
  {
   "cell_type": "code",
   "execution_count": 675,
   "metadata": {},
   "outputs": [
    {
     "name": "stdout",
     "output_type": "stream",
     "text": [
      "[-10, -10] [10, 10] [-10, 10]\n"
     ]
    },
    {
     "data": {
      "text/plain": [
       "68.28"
      ]
     },
     "execution_count": 675,
     "metadata": {},
     "output_type": "execute_result"
    }
   ],
   "source": [
    "perimeter( [ [-10, -10], [10, 10 ], [-10, 10] ] )"
   ]
  },
  {
   "cell_type": "code",
   "execution_count": null,
   "metadata": {},
   "outputs": [],
   "source": []
  },
  {
   "cell_type": "code",
   "execution_count": null,
   "metadata": {},
   "outputs": [],
   "source": []
  },
  {
   "cell_type": "code",
   "execution_count": null,
   "metadata": {},
   "outputs": [],
   "source": []
  },
  {
   "cell_type": "markdown",
   "metadata": {},
   "source": [
    "Question 3.\n",
    "\n",
    "A city skyline can be represented as a 2-D list with 1s representing\n",
    "buildings. \n",
    "\n",
    "In the example below, the height of the tallest building is 4 (second-\n",
    "most right column).\n",
    "\n",
    "[[0, 0, 0, 0, 0, 0],\n",
    "\n",
    "[0, 0, 0, 0, 1, 0],\n",
    "\n",
    "[0, 0, 1, 0, 1, 0],\n",
    "\n",
    "[0, 1, 1, 1, 1, 0],\n",
    "\n",
    "[1, 1, 1, 1, 1, 1]]\n",
    "\n",
    "Create a function that takes a skyline (2-D list of 0&#39;s and 1&#39;s) and returns the\n",
    "height of the tallest skyscraper.\n",
    "\n",
    "Examples\n",
    "\n",
    "tallest_skyscraper([\n",
    "\n",
    "[0, 0, 0, 0],\n",
    "\n",
    "[0, 1, 0, 0],\n",
    "\n",
    "[0, 1, 1, 0],\n",
    "\n",
    "[1, 1, 1, 1]\n",
    "\n",
    "]) ➞ 3\n",
    "\n",
    "tallest_skyscraper([\n",
    "\n",
    "[0, 1, 0, 0],\n",
    "\n",
    "[0, 1, 0, 0],\n",
    "\n",
    "[0, 1, 1, 0],\n",
    "\n",
    "[1, 1, 1, 1]\n",
    "\n",
    "]) ➞ 4\n",
    "\n",
    "tallest_skyscraper([\n",
    "\n",
    "[0, 0, 0, 0],\n",
    "\n",
    "[0, 0, 0, 0],\n",
    "\n",
    "[1, 1, 1, 0],\n",
    "\n",
    "[1, 1, 1, 1]\n",
    "\n",
    "]) ➞ 2"
   ]
  },
  {
   "cell_type": "code",
   "execution_count": null,
   "metadata": {},
   "outputs": [],
   "source": []
  },
  {
   "cell_type": "code",
   "execution_count": 1219,
   "metadata": {},
   "outputs": [],
   "source": [
    "import numpy as np\n",
    "def tallest_skyscraper(a_mat):\n",
    "    \n",
    "    A_mat = np.array(a_mat)\n",
    "    max_ = A_mat.max(axis = 1, keepdims = True)\n",
    "    count = 0\n",
    "    for i in max_:\n",
    "        if i[0] == 1:\n",
    "            count += 1\n",
    "    return count"
   ]
  },
  {
   "cell_type": "code",
   "execution_count": 1220,
   "metadata": {},
   "outputs": [
    {
     "data": {
      "text/plain": [
       "3"
      ]
     },
     "execution_count": 1220,
     "metadata": {},
     "output_type": "execute_result"
    }
   ],
   "source": [
    "tallest_skyscraper([[0, 0, 0, 0],\n",
    "                    [0, 1, 0, 0],\n",
    "                    [0, 1, 1, 0],\n",
    "                    [1, 1, 1, 1]])"
   ]
  },
  {
   "cell_type": "code",
   "execution_count": 1221,
   "metadata": {},
   "outputs": [
    {
     "data": {
      "text/plain": [
       "4"
      ]
     },
     "execution_count": 1221,
     "metadata": {},
     "output_type": "execute_result"
    }
   ],
   "source": [
    "tallest_skyscraper([[0, 0, 0, 0, 0, 0],\n",
    "                    [0, 0, 0, 0, 1, 0],\n",
    "                    [0, 0, 1, 0, 1, 0],\n",
    "                    [0, 1, 1, 1, 1, 0],\n",
    "                    [1, 1, 1, 1, 1, 1]])"
   ]
  },
  {
   "cell_type": "code",
   "execution_count": 1222,
   "metadata": {},
   "outputs": [
    {
     "data": {
      "text/plain": [
       "4"
      ]
     },
     "execution_count": 1222,
     "metadata": {},
     "output_type": "execute_result"
    }
   ],
   "source": [
    "tallest_skyscraper([[0, 1, 0, 0],\n",
    "                    [0, 1, 0, 0],\n",
    "                    [0, 1, 1, 0],\n",
    "                    [1, 1, 1, 1]])"
   ]
  },
  {
   "cell_type": "code",
   "execution_count": 1223,
   "metadata": {},
   "outputs": [
    {
     "data": {
      "text/plain": [
       "2"
      ]
     },
     "execution_count": 1223,
     "metadata": {},
     "output_type": "execute_result"
    }
   ],
   "source": [
    "tallest_skyscraper([[0, 0, 0, 0],\n",
    "                    [0, 0, 0, 0],\n",
    "                    [1, 1, 1, 0],\n",
    "                    [1, 1, 1, 1]])"
   ]
  },
  {
   "cell_type": "code",
   "execution_count": null,
   "metadata": {},
   "outputs": [],
   "source": []
  },
  {
   "cell_type": "code",
   "execution_count": null,
   "metadata": {},
   "outputs": [],
   "source": []
  },
  {
   "cell_type": "code",
   "execution_count": null,
   "metadata": {},
   "outputs": [],
   "source": []
  },
  {
   "cell_type": "code",
   "execution_count": 1225,
   "metadata": {},
   "outputs": [],
   "source": [
    "import numpy as np\n",
    "\n",
    "def tallest_bldg(B):\n",
    "    B = np.array(B)\n",
    "    cc = 0\n",
    "    only_ones = B.max(axis=1)\n",
    "    for i in only_ones:\n",
    "        if i == 1:\n",
    "            cc += 1\n",
    "    return cc\n"
   ]
  },
  {
   "cell_type": "code",
   "execution_count": 1229,
   "metadata": {},
   "outputs": [
    {
     "data": {
      "text/plain": [
       "3"
      ]
     },
     "execution_count": 1229,
     "metadata": {},
     "output_type": "execute_result"
    }
   ],
   "source": [
    "tallest_bldg   ([[0, 0, 0, 0],\n",
    "                [0, 1, 0, 0],\n",
    "                [0, 1, 1, 0],\n",
    "                [1, 1, 1, 1]])"
   ]
  },
  {
   "cell_type": "code",
   "execution_count": 1228,
   "metadata": {},
   "outputs": [
    {
     "data": {
      "text/plain": [
       "4"
      ]
     },
     "execution_count": 1228,
     "metadata": {},
     "output_type": "execute_result"
    }
   ],
   "source": [
    "tallest_bldg       ([[0, 0, 0, 0, 0, 0],\n",
    "                    [0, 0, 0, 0, 1, 0],\n",
    "                    [0, 0, 1, 0, 1, 0],\n",
    "                    [0, 1, 1, 1, 1, 0],\n",
    "                    [1, 1, 1, 1, 1, 1]])"
   ]
  },
  {
   "cell_type": "code",
   "execution_count": 1230,
   "metadata": {},
   "outputs": [
    {
     "data": {
      "text/plain": [
       "4"
      ]
     },
     "execution_count": 1230,
     "metadata": {},
     "output_type": "execute_result"
    }
   ],
   "source": [
    "tallest_bldg       ([[0, 1, 0, 0],\n",
    "                    [0, 1, 0, 0],\n",
    "                    [0, 1, 1, 0],\n",
    "                    [1, 1, 1, 1]])"
   ]
  },
  {
   "cell_type": "code",
   "execution_count": 1231,
   "metadata": {},
   "outputs": [
    {
     "data": {
      "text/plain": [
       "2"
      ]
     },
     "execution_count": 1231,
     "metadata": {},
     "output_type": "execute_result"
    }
   ],
   "source": [
    "tallest_bldg      ([[0, 0, 0, 0],\n",
    "                    [0, 0, 0, 0],\n",
    "                    [1, 1, 1, 0],\n",
    "                    [1, 1, 1, 1]])"
   ]
  },
  {
   "cell_type": "code",
   "execution_count": null,
   "metadata": {},
   "outputs": [],
   "source": []
  },
  {
   "cell_type": "code",
   "execution_count": null,
   "metadata": {},
   "outputs": [],
   "source": []
  },
  {
   "cell_type": "code",
   "execution_count": null,
   "metadata": {},
   "outputs": [],
   "source": []
  },
  {
   "cell_type": "markdown",
   "metadata": {},
   "source": [
    "Question 4. \n",
    "\n",
    "A financial institution provides professional services to banks and claims\n",
    "charges from the customers based on the number of man-days provided.\n",
    "\n",
    "Internally, it has set a scheme to motivate and reward staff to meet and\n",
    "exceed targeted billable utilization and revenues by paying a bonus for each\n",
    "day claimed from customers in excess of a threshold target.\n",
    "\n",
    "This quarterly scheme is calculated with a threshold target of 32 days per\n",
    "quarter, and the incentive payment for each billable day in excess of such\n",
    "threshold target is shown as follows:\n",
    "\n",
    "Days Bonus\n",
    "\n",
    "0 to 32 days Zero\n",
    "\n",
    "33 to 40 days SGD $ 325 per billable day\n",
    "\n",
    " 41 to 48 days SGD$550 per billable day\n",
    "\n",
    "Greater than 48 days SGD $ 600 per billable day\n",
    "\n",
    "Please note that incentive payment is calculated progressively. As an\n",
    "example, if an employee reached total billable days of 45 in a quarter, his/her\n",
    "incentive payment is computed as follows:\n",
    "\n",
    " 32 * 0 + 8 * 325 + 5*550 = 5350\n",
    "\n",
    "Write a function to read the billable days of an employee and return the bonus\n",
    "he/she has obtained in that quarter.\n",
    "\n",
    "Examples\n",
    "\n",
    "bonus(15) ➞ 0\n",
    "\n",
    "bonus(37) ➞ 1625\n",
    "\n",
    "bonus(50) ➞ 8200"
   ]
  },
  {
   "cell_type": "code",
   "execution_count": null,
   "metadata": {},
   "outputs": [],
   "source": []
  },
  {
   "cell_type": "code",
   "execution_count": 1114,
   "metadata": {},
   "outputs": [],
   "source": [
    "def bonus(days_worked):\n",
    "    incentive_pay = int()\n",
    "    while days_worked > 0:\n",
    "        if days_worked >= 1 and days_worked <= 32:\n",
    "            incentive_pay = 0\n",
    "        elif days_worked >= 33 and days_worked <=40:\n",
    "            incentive_pay = (days_worked - 33) * 325\n",
    "        elif days_worked >= 41 and days_worked <= 48:\n",
    "            incentive_pay = (days_worked - 40) * 550 + (8*325)\n",
    "        elif days_worked > 48:\n",
    "            incentive_pay = (days_worked - 48) * 600 + ((8*325) + (8 * 550))\n",
    "        return incentive_pay\n",
    "        break\n",
    "    "
   ]
  },
  {
   "cell_type": "code",
   "execution_count": 1115,
   "metadata": {},
   "outputs": [
    {
     "data": {
      "text/plain": [
       "0"
      ]
     },
     "execution_count": 1115,
     "metadata": {},
     "output_type": "execute_result"
    }
   ],
   "source": [
    "bonus(15)"
   ]
  },
  {
   "cell_type": "code",
   "execution_count": 1116,
   "metadata": {},
   "outputs": [
    {
     "data": {
      "text/plain": [
       "1300"
      ]
     },
     "execution_count": 1116,
     "metadata": {},
     "output_type": "execute_result"
    }
   ],
   "source": [
    "bonus(37)"
   ]
  },
  {
   "cell_type": "code",
   "execution_count": 1117,
   "metadata": {},
   "outputs": [
    {
     "data": {
      "text/plain": [
       "5350"
      ]
     },
     "execution_count": 1117,
     "metadata": {},
     "output_type": "execute_result"
    }
   ],
   "source": [
    "bonus(45)"
   ]
  },
  {
   "cell_type": "code",
   "execution_count": 1118,
   "metadata": {},
   "outputs": [
    {
     "data": {
      "text/plain": [
       "8200"
      ]
     },
     "execution_count": 1118,
     "metadata": {},
     "output_type": "execute_result"
    }
   ],
   "source": [
    "bonus(50)"
   ]
  },
  {
   "cell_type": "code",
   "execution_count": null,
   "metadata": {},
   "outputs": [],
   "source": []
  },
  {
   "cell_type": "code",
   "execution_count": null,
   "metadata": {},
   "outputs": [],
   "source": []
  },
  {
   "cell_type": "code",
   "execution_count": null,
   "metadata": {},
   "outputs": [],
   "source": []
  },
  {
   "cell_type": "code",
   "execution_count": 1136,
   "metadata": {},
   "outputs": [],
   "source": [
    "def bonus_2():\n",
    "    days_2 = int(input())\n",
    "    count_days = 32\n",
    "    rem_days = int()\n",
    "    incen_pay = 0\n",
    "    print(\"Number of Days Worked: \", days_2)\n",
    "\n",
    "    for i in range(0, days_2+1):\n",
    "        if days_2 > 32:\n",
    "            rem_days = days_2 - count_days\n",
    "            if rem_days <= 8:\n",
    "                incen_pay = rem_days*325\n",
    "            elif rem_days > 8 and rem_days <=16:\n",
    "                incen_pay = ((rem_days-8) * 550) + 2600\n",
    "            elif rem_days > 16:\n",
    "                incen_pay = ((rem_days-16)*600) + 7000\n",
    "        else:\n",
    "            return \"No Incentive Pay as it is \", days_2, \"days. Less than \", count_days\n",
    "    return \"Incentive Pay is \", incen_pay\n",
    "            "
   ]
  },
  {
   "cell_type": "code",
   "execution_count": 1137,
   "metadata": {},
   "outputs": [
    {
     "name": "stdout",
     "output_type": "stream",
     "text": [
      "45\n",
      "Number of Days Worked:  45\n"
     ]
    },
    {
     "data": {
      "text/plain": [
       "('Incentive Pay is ', 5350)"
      ]
     },
     "execution_count": 1137,
     "metadata": {},
     "output_type": "execute_result"
    }
   ],
   "source": [
    "bonus_2()"
   ]
  },
  {
   "cell_type": "code",
   "execution_count": 1138,
   "metadata": {},
   "outputs": [
    {
     "name": "stdout",
     "output_type": "stream",
     "text": [
      "27\n",
      "Number of Days Worked:  27\n"
     ]
    },
    {
     "data": {
      "text/plain": [
       "('No Incentive Pay as it is ', 27, 'days. Less than ', 32)"
      ]
     },
     "execution_count": 1138,
     "metadata": {},
     "output_type": "execute_result"
    }
   ],
   "source": [
    "bonus_2()"
   ]
  },
  {
   "cell_type": "code",
   "execution_count": 1139,
   "metadata": {},
   "outputs": [
    {
     "name": "stdout",
     "output_type": "stream",
     "text": [
      "58\n",
      "Number of Days Worked:  58\n"
     ]
    },
    {
     "data": {
      "text/plain": [
       "('Incentive Pay is ', 13000)"
      ]
     },
     "execution_count": 1139,
     "metadata": {},
     "output_type": "execute_result"
    }
   ],
   "source": [
    "bonus_2()"
   ]
  },
  {
   "cell_type": "code",
   "execution_count": null,
   "metadata": {},
   "outputs": [],
   "source": []
  },
  {
   "cell_type": "code",
   "execution_count": null,
   "metadata": {},
   "outputs": [],
   "source": []
  },
  {
   "cell_type": "code",
   "execution_count": null,
   "metadata": {},
   "outputs": [],
   "source": []
  },
  {
   "cell_type": "markdown",
   "metadata": {},
   "source": [
    "Question 5. \n",
    "\n",
    "A number is said to be Disarium if the sum of its digits raised to their\n",
    "respective positions is the number itself.\n",
    "\n",
    "Create a function that determines whether a number is a Disarium or not.\n",
    "\n",
    "Examples\n",
    "\n",
    "is_disarium(75) ➞ False\n",
    "\n",
    "7^1 + 5^2 = 7 + 25 = 32\n",
    "\n",
    "is_disarium(135) ➞ True\n",
    "\n",
    "1^1 + 3^2 + 5^3 = 1 + 9 + 125 = 135\n",
    "\n",
    "is_disarium(544) ➞ False\n",
    "\n",
    "is_disarium(518) ➞ True\n",
    "\n",
    "is_disarium(466) ➞ False\n",
    "\n",
    "is_disarium(8) ➞ True"
   ]
  },
  {
   "cell_type": "code",
   "execution_count": 1211,
   "metadata": {},
   "outputs": [],
   "source": [
    "import math\n",
    "def is_disarium(entr_num):\n",
    "    power_ = 0\n",
    "    total_ = []\n",
    "    num_ = [int(i) for i in str(entr_num)]\n",
    "    num_\n",
    "\n",
    "    for i in num_:\n",
    "        if entr_num <= 0:\n",
    "            print(\"Number has to be more than 0\")\n",
    "        else:\n",
    "            power_+=1\n",
    "            i = math.pow(i, power_)\n",
    "            total_.append(int(i))\n",
    "            sum_total = sum(total_)\n",
    "            \n",
    "    if sum_total == entr_num:\n",
    "        return entr_num, \"is Disarium \", True\n",
    "    return entr_num,\" is NOT Disarium \", False"
   ]
  },
  {
   "cell_type": "code",
   "execution_count": 1212,
   "metadata": {},
   "outputs": [
    {
     "data": {
      "text/plain": [
       "(544, ' is NOT Disarium ', False)"
      ]
     },
     "execution_count": 1212,
     "metadata": {},
     "output_type": "execute_result"
    }
   ],
   "source": [
    "is_disarium(544)"
   ]
  },
  {
   "cell_type": "code",
   "execution_count": 1198,
   "metadata": {},
   "outputs": [
    {
     "data": {
      "text/plain": [
       "(518, 'is Disarium ', True)"
      ]
     },
     "execution_count": 1198,
     "metadata": {},
     "output_type": "execute_result"
    }
   ],
   "source": [
    "is_disarium(518)"
   ]
  },
  {
   "cell_type": "code",
   "execution_count": 1201,
   "metadata": {},
   "outputs": [
    {
     "data": {
      "text/plain": [
       "(466, ' is NOT Disarium ', False)"
      ]
     },
     "execution_count": 1201,
     "metadata": {},
     "output_type": "execute_result"
    }
   ],
   "source": [
    "is_disarium(466)"
   ]
  },
  {
   "cell_type": "code",
   "execution_count": 1191,
   "metadata": {},
   "outputs": [
    {
     "data": {
      "text/plain": [
       "(8, 'is Disarium ', True)"
      ]
     },
     "execution_count": 1191,
     "metadata": {},
     "output_type": "execute_result"
    }
   ],
   "source": [
    "is_disarium(8)"
   ]
  },
  {
   "cell_type": "code",
   "execution_count": 1192,
   "metadata": {},
   "outputs": [
    {
     "data": {
      "text/plain": [
       "(75, ' is NOT Disarium ', False)"
      ]
     },
     "execution_count": 1192,
     "metadata": {},
     "output_type": "execute_result"
    }
   ],
   "source": [
    "is_disarium(75)"
   ]
  },
  {
   "cell_type": "code",
   "execution_count": 1193,
   "metadata": {},
   "outputs": [
    {
     "data": {
      "text/plain": [
       "(135, 'is Disarium ', True)"
      ]
     },
     "execution_count": 1193,
     "metadata": {},
     "output_type": "execute_result"
    }
   ],
   "source": [
    "is_disarium(135)"
   ]
  },
  {
   "cell_type": "code",
   "execution_count": 1202,
   "metadata": {},
   "outputs": [
    {
     "data": {
      "text/plain": [
       "(175, 'is Disarium ', True)"
      ]
     },
     "execution_count": 1202,
     "metadata": {},
     "output_type": "execute_result"
    }
   ],
   "source": [
    "is_disarium(175)"
   ]
  },
  {
   "cell_type": "code",
   "execution_count": null,
   "metadata": {},
   "outputs": [],
   "source": []
  },
  {
   "cell_type": "code",
   "execution_count": null,
   "metadata": {},
   "outputs": [],
   "source": []
  },
  {
   "cell_type": "code",
   "execution_count": null,
   "metadata": {},
   "outputs": [],
   "source": []
  },
  {
   "cell_type": "code",
   "execution_count": null,
   "metadata": {},
   "outputs": [],
   "source": []
  },
  {
   "cell_type": "code",
   "execution_count": null,
   "metadata": {},
   "outputs": [],
   "source": []
  },
  {
   "cell_type": "code",
   "execution_count": null,
   "metadata": {},
   "outputs": [],
   "source": []
  },
  {
   "cell_type": "code",
   "execution_count": null,
   "metadata": {},
   "outputs": [],
   "source": []
  },
  {
   "cell_type": "markdown",
   "metadata": {},
   "source": [
    "                                              #################### THE END ###########################"
   ]
  },
  {
   "cell_type": "code",
   "execution_count": null,
   "metadata": {},
   "outputs": [],
   "source": []
  },
  {
   "cell_type": "code",
   "execution_count": null,
   "metadata": {},
   "outputs": [],
   "source": []
  },
  {
   "cell_type": "code",
   "execution_count": null,
   "metadata": {},
   "outputs": [],
   "source": []
  },
  {
   "cell_type": "code",
   "execution_count": null,
   "metadata": {},
   "outputs": [],
   "source": []
  }
 ],
 "metadata": {
  "kernelspec": {
   "display_name": "Python 3",
   "language": "python",
   "name": "python3"
  },
  "language_info": {
   "codemirror_mode": {
    "name": "ipython",
    "version": 3
   },
   "file_extension": ".py",
   "mimetype": "text/x-python",
   "name": "python",
   "nbconvert_exporter": "python",
   "pygments_lexer": "ipython3",
   "version": "3.8.5"
  }
 },
 "nbformat": 4,
 "nbformat_minor": 4
}
